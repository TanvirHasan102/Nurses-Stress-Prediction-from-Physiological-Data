{
  "nbformat": 4,
  "nbformat_minor": 0,
  "metadata": {
    "colab": {
      "provenance": []
    },
    "kernelspec": {
      "name": "python3",
      "display_name": "Python 3"
    },
    "language_info": {
      "name": "python"
    }
  },
  "cells": [
    {
      "cell_type": "code",
      "execution_count": null,
      "metadata": {
        "id": "gnixV9I3g7rI"
      },
      "outputs": [],
      "source": [
        "import pandas as pd"
      ]
    },
    {
      "cell_type": "code",
      "source": [
        "from google.colab import drive\n",
        "\n",
        "# Mount Google Drive\n",
        "drive.mount('/content/drive')"
      ],
      "metadata": {
        "colab": {
          "base_uri": "https://localhost:8080/"
        },
        "id": "LsKl3NNLhSs1",
        "outputId": "783e80db-9ada-4c42-fa07-18e10ee6fc46"
      },
      "execution_count": null,
      "outputs": [
        {
          "output_type": "stream",
          "name": "stdout",
          "text": [
            "Mounted at /content/drive\n"
          ]
        }
      ]
    },
    {
      "cell_type": "code",
      "source": [
        "import pandas as pd\n",
        "df = pd.read_csv('/content/drive/MyDrive/Colab Notebooks/merged_dataset.csv')\n",
        "print(df.head(5))"
      ],
      "metadata": {
        "colab": {
          "base_uri": "https://localhost:8080/"
        },
        "id": "yj6rDBMIhanc",
        "outputId": "c2f07d99-51c8-4727-9a5e-80fbfc94ddc1"
      },
      "execution_count": null,
      "outputs": [
        {
          "output_type": "stream",
          "name": "stderr",
          "text": [
            "<ipython-input-3-4d8cd5039713>:2: DtypeWarning: Columns (6) have mixed types. Specify dtype option on import or set low_memory=False.\n",
            "  df = pd.read_csv('/content/drive/MyDrive/Colab Notebooks/merged_dataset.csv')\n"
          ]
        },
        {
          "output_type": "stream",
          "name": "stdout",
          "text": [
            "      X     Y     Z       EDA     HR   TEMP  id  \\\n",
            "0 -13.0 -61.0   5.0  6.769995  99.43  31.17  15   \n",
            "1 -20.0 -69.0  -3.0  6.769995  99.43  31.17  15   \n",
            "2 -31.0 -78.0 -15.0  6.769995  99.43  31.17  15   \n",
            "3 -47.0 -65.0 -38.0  6.769995  99.43  31.17  15   \n",
            "4 -67.0 -57.0 -53.0  6.769995  99.43  31.17  15   \n",
            "\n",
            "                        datetime  label  \n",
            "0  2020-07-08 14:03:00.000000000    2.0  \n",
            "1  2020-07-08 14:03:00.031249920    2.0  \n",
            "2  2020-07-08 14:03:00.062500096    2.0  \n",
            "3  2020-07-08 14:03:00.093750016    2.0  \n",
            "4  2020-07-08 14:03:00.124999936    2.0  \n"
          ]
        }
      ]
    },
    {
      "cell_type": "code",
      "source": [
        "df.shape"
      ],
      "metadata": {
        "colab": {
          "base_uri": "https://localhost:8080/"
        },
        "id": "jasQUOSnawBn",
        "outputId": "c9a2568c-6aa4-4e6a-b5e7-13cf04877150"
      },
      "execution_count": null,
      "outputs": [
        {
          "output_type": "execute_result",
          "data": {
            "text/plain": [
              "(11509051, 9)"
            ]
          },
          "metadata": {},
          "execution_count": 4
        }
      ]
    },
    {
      "cell_type": "code",
      "source": [
        "df.isna().sum()"
      ],
      "metadata": {
        "colab": {
          "base_uri": "https://localhost:8080/"
        },
        "id": "4aZ0tMlPjsDN",
        "outputId": "062fb11c-f36c-47f6-fa80-74b50b2d97be"
      },
      "execution_count": null,
      "outputs": [
        {
          "output_type": "execute_result",
          "data": {
            "text/plain": [
              "X           0\n",
              "Y           0\n",
              "Z           0\n",
              "EDA         0\n",
              "HR          0\n",
              "TEMP        0\n",
              "id          0\n",
              "datetime    0\n",
              "label       0\n",
              "dtype: int64"
            ]
          },
          "metadata": {},
          "execution_count": 5
        }
      ]
    },
    {
      "cell_type": "code",
      "source": [
        "df.info()"
      ],
      "metadata": {
        "colab": {
          "base_uri": "https://localhost:8080/"
        },
        "id": "SCYmk_XicsRm",
        "outputId": "c1b65f70-aa9f-46eb-e60d-4385e23d9d11"
      },
      "execution_count": null,
      "outputs": [
        {
          "output_type": "stream",
          "name": "stdout",
          "text": [
            "<class 'pandas.core.frame.DataFrame'>\n",
            "RangeIndex: 11509051 entries, 0 to 11509050\n",
            "Data columns (total 9 columns):\n",
            " #   Column    Dtype  \n",
            "---  ------    -----  \n",
            " 0   X         float64\n",
            " 1   Y         float64\n",
            " 2   Z         float64\n",
            " 3   EDA       float64\n",
            " 4   HR        float64\n",
            " 5   TEMP      float64\n",
            " 6   id        object \n",
            " 7   datetime  object \n",
            " 8   label     float64\n",
            "dtypes: float64(7), object(2)\n",
            "memory usage: 790.3+ MB\n"
          ]
        }
      ]
    },
    {
      "cell_type": "markdown",
      "source": [
        "#Data Cleaning"
      ],
      "metadata": {
        "id": "MlBCYQC90S7O"
      }
    },
    {
      "cell_type": "markdown",
      "source": [
        "detect_outliers"
      ],
      "metadata": {
        "id": "4-uJugpZcN2F"
      }
    },
    {
      "cell_type": "code",
      "source": [
        "import numpy as np\n",
        "\n",
        "def detect_outliers_z_score(data):\n",
        "    outliers_indices = []\n",
        "    threshold = 3\n",
        "    mean = np.mean(data)\n",
        "    std = np.std(data)\n",
        "    for i, value in enumerate(data):\n",
        "        z_score = (value - mean) / std\n",
        "        if np.abs(z_score) > threshold:\n",
        "            outliers_indices.append(i)\n",
        "    return outliers_indices\n",
        "\n",
        "# List to store outlier counts for each column\n",
        "outlier_counts_all = {}\n",
        "\n",
        "# Iterate over each numerical column in the dataframe\n",
        "for column in df.select_dtypes(include=['float64']).columns:\n",
        "    # Apply outlier detection to the column\n",
        "    outlier_indices = detect_outliers_z_score(df[column])\n",
        "    # Count the number of outliers for the column\n",
        "    outlier_counts_all[column] = len(outlier_indices)\n",
        "\n",
        "# Print summary of outlier counts for each column\n",
        "for column, count in outlier_counts_all.items():\n",
        "    print(\"Number of outliers in column '{}': {}\".format(column, count))\n"
      ],
      "metadata": {
        "id": "pJk7NlvUjxrZ",
        "colab": {
          "base_uri": "https://localhost:8080/"
        },
        "outputId": "b266e534-3813-4126-dd2b-90b0aff9fe35"
      },
      "execution_count": null,
      "outputs": [
        {
          "output_type": "stream",
          "name": "stdout",
          "text": [
            "Number of outliers in column 'X': 47258\n",
            "Number of outliers in column 'Y': 20554\n",
            "Number of outliers in column 'Z': 79819\n",
            "Number of outliers in column 'EDA': 259978\n",
            "Number of outliers in column 'HR': 118658\n",
            "Number of outliers in column 'TEMP': 4480\n",
            "Number of outliers in column 'label': 0\n"
          ]
        }
      ]
    },
    {
      "cell_type": "code",
      "source": [
        "# Create a copy of the DataFrame\n",
        "df_cleaned = df.copy()\n",
        "\n",
        "# Reset index to ensure alignment with outlier indices\n",
        "df_cleaned.reset_index(drop=True, inplace=True)\n",
        "\n",
        "# Iterate over each numerical column in the DataFrame\n",
        "for column in df.select_dtypes(include=['float64']).columns:\n",
        "    # Apply outlier detection to the column\n",
        "    outlier_indices = detect_outliers_z_score(df[column])\n",
        "    # Filter outlier indices within the range of DataFrame indices\n",
        "    outlier_indices = [index for index in outlier_indices if index < len(df_cleaned)]\n",
        "    # Remove rows with outlier indices\n",
        "    df_cleaned = df_cleaned.drop(df_cleaned.index[outlier_indices])\n",
        "\n",
        "# Print the shape of the cleaned DataFrame\n",
        "print(\"Shape of cleaned DataFrame:\", df_cleaned.shape)\n"
      ],
      "metadata": {
        "colab": {
          "base_uri": "https://localhost:8080/"
        },
        "id": "FUYN73k0ceeY",
        "outputId": "3defc4ce-b86e-4d12-eef4-e1815f0c7828"
      },
      "execution_count": null,
      "outputs": [
        {
          "output_type": "stream",
          "name": "stdout",
          "text": [
            "Shape of cleaned DataFrame: (10979929, 9)\n"
          ]
        }
      ]
    },
    {
      "cell_type": "markdown",
      "source": [
        "ID cleaning(There should have 15 id but we have 18)"
      ],
      "metadata": {
        "id": "hp7dTaA60aAK"
      }
    },
    {
      "cell_type": "code",
      "source": [
        "# Check the number of unique values for each column in df_cleaned\n",
        "unique_values = df_cleaned.nunique()\n",
        "\n",
        "# Print the number of unique values for each column\n",
        "print(unique_values)\n"
      ],
      "metadata": {
        "colab": {
          "base_uri": "https://localhost:8080/"
        },
        "id": "nXJwhUWTvq_E",
        "outputId": "2fb9d3bd-173b-4b35-a028-a56b77beee0c"
      },
      "execution_count": null,
      "outputs": [
        {
          "output_type": "stream",
          "name": "stdout",
          "text": [
            "X                189\n",
            "Y                256\n",
            "Z                256\n",
            "EDA           260709\n",
            "HR              6266\n",
            "TEMP             598\n",
            "id                18\n",
            "datetime    10156161\n",
            "label              3\n",
            "dtype: int64\n"
          ]
        }
      ]
    },
    {
      "cell_type": "code",
      "source": [
        "# Check for leading or trailing white spaces and remove them\n",
        "df_cleaned['id'] = df_cleaned['id'].str.strip()\n",
        "\n",
        "# Convert the 'ID' column to uppercase or lowercase\n",
        "df_cleaned['id'] = df_cleaned['id'].str.upper()  # or df['ID'] = df['ID'].str.lower()\n",
        "\n",
        "# Check for unique values after cleaning\n",
        "unique_ids = df_cleaned['id'].unique()\n",
        "print(len(unique_ids), \"unique IDs after cleaning:\", unique_ids)\n"
      ],
      "metadata": {
        "colab": {
          "base_uri": "https://localhost:8080/"
        },
        "id": "UFKlsLBZyZnQ",
        "outputId": "fe24cbe2-4821-4439-86ca-7e087ce7170b"
      },
      "execution_count": null,
      "outputs": [
        {
          "output_type": "stream",
          "name": "stdout",
          "text": [
            "16 unique IDs after cleaning: [nan '15' '5C' '6B' '6D' '7A' '7E' '83' '8B' '94' 'BG' 'CE' 'DF' 'E4' 'EG'\n",
            " 'F5']\n"
          ]
        }
      ]
    },
    {
      "cell_type": "code",
      "source": [
        "# Check for missing values in the 'ID' column\n",
        "missing_ids = df_cleaned[df_cleaned['id'].isna()]\n",
        "print(\"Number of rows with missing IDs:\", len(missing_ids))\n"
      ],
      "metadata": {
        "colab": {
          "base_uri": "https://localhost:8080/"
        },
        "id": "NmqnProvzOBE",
        "outputId": "fcabc408-422d-48ad-8b63-54b580cc85b5"
      },
      "execution_count": null,
      "outputs": [
        {
          "output_type": "stream",
          "name": "stdout",
          "text": [
            "Number of rows with missing IDs: 2014448\n"
          ]
        }
      ]
    },
    {
      "cell_type": "code",
      "source": [
        "# Drop rows with missing IDs\n",
        "df_cleaned = df_cleaned.dropna(subset=['id'])\n",
        "\n",
        "# Print the shape of the cleaned DataFrame\n",
        "print(\"Shape of cleaned DataFrame:\", df_cleaned.shape)"
      ],
      "metadata": {
        "colab": {
          "base_uri": "https://localhost:8080/"
        },
        "id": "bnRXL0DtzdM0",
        "outputId": "cb1ea922-21ee-4487-8bdb-2bb7465c581d"
      },
      "execution_count": null,
      "outputs": [
        {
          "output_type": "stream",
          "name": "stdout",
          "text": [
            "Shape of cleaned DataFrame: (8965481, 9)\n"
          ]
        }
      ]
    },
    {
      "cell_type": "code",
      "source": [
        "# Remove rows with missing IDs\n",
        "df_cleaned = df_cleaned.dropna(subset=['id'])\n",
        "\n",
        "# Check for leading or trailing white spaces and remove them\n",
        "df_cleaned['id'] = df_cleaned['id'].str.strip()\n",
        "\n",
        "# Convert the 'ID' column to uppercase or lowercase\n",
        "df_cleaned['id'] = df_cleaned['id'].str.upper()  # or df['ID'] = df['ID'].str.lower()\n",
        "\n",
        "# Check for unique values after cleaning\n",
        "unique_ids = df_cleaned['id'].unique()\n",
        "print(len(unique_ids), \"unique IDs after cleaning:\", unique_ids)\n"
      ],
      "metadata": {
        "colab": {
          "base_uri": "https://localhost:8080/"
        },
        "id": "kTca2ROazu7f",
        "outputId": "86865d04-2ab1-4839-bb72-5c585da12562"
      },
      "execution_count": null,
      "outputs": [
        {
          "output_type": "stream",
          "name": "stdout",
          "text": [
            "15 unique IDs after cleaning: ['15' '5C' '6B' '6D' '7A' '7E' '83' '8B' '94' 'BG' 'CE' 'DF' 'E4' 'EG'\n",
            " 'F5']\n"
          ]
        }
      ]
    },
    {
      "cell_type": "code",
      "source": [
        "df_cleaned"
      ],
      "metadata": {
        "colab": {
          "base_uri": "https://localhost:8080/",
          "height": 423
        },
        "id": "KvV14RyjrK5N",
        "outputId": "38fa5af0-c42b-453d-dfce-14cd5d938a0b"
      },
      "execution_count": null,
      "outputs": [
        {
          "output_type": "execute_result",
          "data": {
            "text/plain": [
              "             X     Y     Z       EDA     HR   TEMP  id  \\\n",
              "262144   -42.0  -6.0  59.0  9.957165  96.60  32.37  15   \n",
              "262145   -46.0  -9.0  58.0  9.957165  96.60  32.37  15   \n",
              "262146   -45.0 -12.0  58.0  9.957165  96.60  32.37  15   \n",
              "262147   -41.0 -10.0  50.0  9.957165  96.60  32.37  15   \n",
              "262148   -43.0  -8.0  43.0  9.957165  96.60  32.37  15   \n",
              "...        ...   ...   ...       ...    ...    ...  ..   \n",
              "11509046 -16.0 -56.0  24.0  3.386070  88.37  33.77  F5   \n",
              "11509047  -8.0 -50.0  27.0  3.386070  88.37  33.77  F5   \n",
              "11509048 -28.0 -36.0  28.0  3.386070  88.37  33.77  F5   \n",
              "11509049 -29.0 -29.0  30.0  3.386070  88.37  33.77  F5   \n",
              "11509050 -22.0 -24.0  29.0  3.374543  88.33  33.75  F5   \n",
              "\n",
              "                               datetime  label  \n",
              "262144    2020-07-24 13:22:31.781250048    2.0  \n",
              "262145    2020-07-24 13:22:31.812499968    2.0  \n",
              "262146    2020-07-24 13:22:31.843749888    2.0  \n",
              "262147    2020-07-24 13:22:31.875000064    2.0  \n",
              "262148    2020-07-24 13:22:31.906249984    2.0  \n",
              "...                                 ...    ...  \n",
              "11509046  2020-07-23 17:28:59.875000064    2.0  \n",
              "11509047  2020-07-23 17:28:59.906249984    2.0  \n",
              "11509048  2020-07-23 17:28:59.937499904    2.0  \n",
              "11509049  2020-07-23 17:28:59.968750080    2.0  \n",
              "11509050  2020-07-23 17:29:00.000000000    2.0  \n",
              "\n",
              "[8965481 rows x 9 columns]"
            ],
            "text/html": [
              "\n",
              "  <div id=\"df-ba65cf11-d3bb-4bf4-8c4a-fb75004da75e\" class=\"colab-df-container\">\n",
              "    <div>\n",
              "<style scoped>\n",
              "    .dataframe tbody tr th:only-of-type {\n",
              "        vertical-align: middle;\n",
              "    }\n",
              "\n",
              "    .dataframe tbody tr th {\n",
              "        vertical-align: top;\n",
              "    }\n",
              "\n",
              "    .dataframe thead th {\n",
              "        text-align: right;\n",
              "    }\n",
              "</style>\n",
              "<table border=\"1\" class=\"dataframe\">\n",
              "  <thead>\n",
              "    <tr style=\"text-align: right;\">\n",
              "      <th></th>\n",
              "      <th>X</th>\n",
              "      <th>Y</th>\n",
              "      <th>Z</th>\n",
              "      <th>EDA</th>\n",
              "      <th>HR</th>\n",
              "      <th>TEMP</th>\n",
              "      <th>id</th>\n",
              "      <th>datetime</th>\n",
              "      <th>label</th>\n",
              "    </tr>\n",
              "  </thead>\n",
              "  <tbody>\n",
              "    <tr>\n",
              "      <th>262144</th>\n",
              "      <td>-42.0</td>\n",
              "      <td>-6.0</td>\n",
              "      <td>59.0</td>\n",
              "      <td>9.957165</td>\n",
              "      <td>96.60</td>\n",
              "      <td>32.37</td>\n",
              "      <td>15</td>\n",
              "      <td>2020-07-24 13:22:31.781250048</td>\n",
              "      <td>2.0</td>\n",
              "    </tr>\n",
              "    <tr>\n",
              "      <th>262145</th>\n",
              "      <td>-46.0</td>\n",
              "      <td>-9.0</td>\n",
              "      <td>58.0</td>\n",
              "      <td>9.957165</td>\n",
              "      <td>96.60</td>\n",
              "      <td>32.37</td>\n",
              "      <td>15</td>\n",
              "      <td>2020-07-24 13:22:31.812499968</td>\n",
              "      <td>2.0</td>\n",
              "    </tr>\n",
              "    <tr>\n",
              "      <th>262146</th>\n",
              "      <td>-45.0</td>\n",
              "      <td>-12.0</td>\n",
              "      <td>58.0</td>\n",
              "      <td>9.957165</td>\n",
              "      <td>96.60</td>\n",
              "      <td>32.37</td>\n",
              "      <td>15</td>\n",
              "      <td>2020-07-24 13:22:31.843749888</td>\n",
              "      <td>2.0</td>\n",
              "    </tr>\n",
              "    <tr>\n",
              "      <th>262147</th>\n",
              "      <td>-41.0</td>\n",
              "      <td>-10.0</td>\n",
              "      <td>50.0</td>\n",
              "      <td>9.957165</td>\n",
              "      <td>96.60</td>\n",
              "      <td>32.37</td>\n",
              "      <td>15</td>\n",
              "      <td>2020-07-24 13:22:31.875000064</td>\n",
              "      <td>2.0</td>\n",
              "    </tr>\n",
              "    <tr>\n",
              "      <th>262148</th>\n",
              "      <td>-43.0</td>\n",
              "      <td>-8.0</td>\n",
              "      <td>43.0</td>\n",
              "      <td>9.957165</td>\n",
              "      <td>96.60</td>\n",
              "      <td>32.37</td>\n",
              "      <td>15</td>\n",
              "      <td>2020-07-24 13:22:31.906249984</td>\n",
              "      <td>2.0</td>\n",
              "    </tr>\n",
              "    <tr>\n",
              "      <th>...</th>\n",
              "      <td>...</td>\n",
              "      <td>...</td>\n",
              "      <td>...</td>\n",
              "      <td>...</td>\n",
              "      <td>...</td>\n",
              "      <td>...</td>\n",
              "      <td>...</td>\n",
              "      <td>...</td>\n",
              "      <td>...</td>\n",
              "    </tr>\n",
              "    <tr>\n",
              "      <th>11509046</th>\n",
              "      <td>-16.0</td>\n",
              "      <td>-56.0</td>\n",
              "      <td>24.0</td>\n",
              "      <td>3.386070</td>\n",
              "      <td>88.37</td>\n",
              "      <td>33.77</td>\n",
              "      <td>F5</td>\n",
              "      <td>2020-07-23 17:28:59.875000064</td>\n",
              "      <td>2.0</td>\n",
              "    </tr>\n",
              "    <tr>\n",
              "      <th>11509047</th>\n",
              "      <td>-8.0</td>\n",
              "      <td>-50.0</td>\n",
              "      <td>27.0</td>\n",
              "      <td>3.386070</td>\n",
              "      <td>88.37</td>\n",
              "      <td>33.77</td>\n",
              "      <td>F5</td>\n",
              "      <td>2020-07-23 17:28:59.906249984</td>\n",
              "      <td>2.0</td>\n",
              "    </tr>\n",
              "    <tr>\n",
              "      <th>11509048</th>\n",
              "      <td>-28.0</td>\n",
              "      <td>-36.0</td>\n",
              "      <td>28.0</td>\n",
              "      <td>3.386070</td>\n",
              "      <td>88.37</td>\n",
              "      <td>33.77</td>\n",
              "      <td>F5</td>\n",
              "      <td>2020-07-23 17:28:59.937499904</td>\n",
              "      <td>2.0</td>\n",
              "    </tr>\n",
              "    <tr>\n",
              "      <th>11509049</th>\n",
              "      <td>-29.0</td>\n",
              "      <td>-29.0</td>\n",
              "      <td>30.0</td>\n",
              "      <td>3.386070</td>\n",
              "      <td>88.37</td>\n",
              "      <td>33.77</td>\n",
              "      <td>F5</td>\n",
              "      <td>2020-07-23 17:28:59.968750080</td>\n",
              "      <td>2.0</td>\n",
              "    </tr>\n",
              "    <tr>\n",
              "      <th>11509050</th>\n",
              "      <td>-22.0</td>\n",
              "      <td>-24.0</td>\n",
              "      <td>29.0</td>\n",
              "      <td>3.374543</td>\n",
              "      <td>88.33</td>\n",
              "      <td>33.75</td>\n",
              "      <td>F5</td>\n",
              "      <td>2020-07-23 17:29:00.000000000</td>\n",
              "      <td>2.0</td>\n",
              "    </tr>\n",
              "  </tbody>\n",
              "</table>\n",
              "<p>8965481 rows × 9 columns</p>\n",
              "</div>\n",
              "    <div class=\"colab-df-buttons\">\n",
              "\n",
              "  <div class=\"colab-df-container\">\n",
              "    <button class=\"colab-df-convert\" onclick=\"convertToInteractive('df-ba65cf11-d3bb-4bf4-8c4a-fb75004da75e')\"\n",
              "            title=\"Convert this dataframe to an interactive table.\"\n",
              "            style=\"display:none;\">\n",
              "\n",
              "  <svg xmlns=\"http://www.w3.org/2000/svg\" height=\"24px\" viewBox=\"0 -960 960 960\">\n",
              "    <path d=\"M120-120v-720h720v720H120Zm60-500h600v-160H180v160Zm220 220h160v-160H400v160Zm0 220h160v-160H400v160ZM180-400h160v-160H180v160Zm440 0h160v-160H620v160ZM180-180h160v-160H180v160Zm440 0h160v-160H620v160Z\"/>\n",
              "  </svg>\n",
              "    </button>\n",
              "\n",
              "  <style>\n",
              "    .colab-df-container {\n",
              "      display:flex;\n",
              "      gap: 12px;\n",
              "    }\n",
              "\n",
              "    .colab-df-convert {\n",
              "      background-color: #E8F0FE;\n",
              "      border: none;\n",
              "      border-radius: 50%;\n",
              "      cursor: pointer;\n",
              "      display: none;\n",
              "      fill: #1967D2;\n",
              "      height: 32px;\n",
              "      padding: 0 0 0 0;\n",
              "      width: 32px;\n",
              "    }\n",
              "\n",
              "    .colab-df-convert:hover {\n",
              "      background-color: #E2EBFA;\n",
              "      box-shadow: 0px 1px 2px rgba(60, 64, 67, 0.3), 0px 1px 3px 1px rgba(60, 64, 67, 0.15);\n",
              "      fill: #174EA6;\n",
              "    }\n",
              "\n",
              "    .colab-df-buttons div {\n",
              "      margin-bottom: 4px;\n",
              "    }\n",
              "\n",
              "    [theme=dark] .colab-df-convert {\n",
              "      background-color: #3B4455;\n",
              "      fill: #D2E3FC;\n",
              "    }\n",
              "\n",
              "    [theme=dark] .colab-df-convert:hover {\n",
              "      background-color: #434B5C;\n",
              "      box-shadow: 0px 1px 3px 1px rgba(0, 0, 0, 0.15);\n",
              "      filter: drop-shadow(0px 1px 2px rgba(0, 0, 0, 0.3));\n",
              "      fill: #FFFFFF;\n",
              "    }\n",
              "  </style>\n",
              "\n",
              "    <script>\n",
              "      const buttonEl =\n",
              "        document.querySelector('#df-ba65cf11-d3bb-4bf4-8c4a-fb75004da75e button.colab-df-convert');\n",
              "      buttonEl.style.display =\n",
              "        google.colab.kernel.accessAllowed ? 'block' : 'none';\n",
              "\n",
              "      async function convertToInteractive(key) {\n",
              "        const element = document.querySelector('#df-ba65cf11-d3bb-4bf4-8c4a-fb75004da75e');\n",
              "        const dataTable =\n",
              "          await google.colab.kernel.invokeFunction('convertToInteractive',\n",
              "                                                    [key], {});\n",
              "        if (!dataTable) return;\n",
              "\n",
              "        const docLinkHtml = 'Like what you see? Visit the ' +\n",
              "          '<a target=\"_blank\" href=https://colab.research.google.com/notebooks/data_table.ipynb>data table notebook</a>'\n",
              "          + ' to learn more about interactive tables.';\n",
              "        element.innerHTML = '';\n",
              "        dataTable['output_type'] = 'display_data';\n",
              "        await google.colab.output.renderOutput(dataTable, element);\n",
              "        const docLink = document.createElement('div');\n",
              "        docLink.innerHTML = docLinkHtml;\n",
              "        element.appendChild(docLink);\n",
              "      }\n",
              "    </script>\n",
              "  </div>\n",
              "\n",
              "\n",
              "<div id=\"df-c6509ee8-89cf-47c8-9995-e040c0a30c8b\">\n",
              "  <button class=\"colab-df-quickchart\" onclick=\"quickchart('df-c6509ee8-89cf-47c8-9995-e040c0a30c8b')\"\n",
              "            title=\"Suggest charts\"\n",
              "            style=\"display:none;\">\n",
              "\n",
              "<svg xmlns=\"http://www.w3.org/2000/svg\" height=\"24px\"viewBox=\"0 0 24 24\"\n",
              "     width=\"24px\">\n",
              "    <g>\n",
              "        <path d=\"M19 3H5c-1.1 0-2 .9-2 2v14c0 1.1.9 2 2 2h14c1.1 0 2-.9 2-2V5c0-1.1-.9-2-2-2zM9 17H7v-7h2v7zm4 0h-2V7h2v10zm4 0h-2v-4h2v4z\"/>\n",
              "    </g>\n",
              "</svg>\n",
              "  </button>\n",
              "\n",
              "<style>\n",
              "  .colab-df-quickchart {\n",
              "      --bg-color: #E8F0FE;\n",
              "      --fill-color: #1967D2;\n",
              "      --hover-bg-color: #E2EBFA;\n",
              "      --hover-fill-color: #174EA6;\n",
              "      --disabled-fill-color: #AAA;\n",
              "      --disabled-bg-color: #DDD;\n",
              "  }\n",
              "\n",
              "  [theme=dark] .colab-df-quickchart {\n",
              "      --bg-color: #3B4455;\n",
              "      --fill-color: #D2E3FC;\n",
              "      --hover-bg-color: #434B5C;\n",
              "      --hover-fill-color: #FFFFFF;\n",
              "      --disabled-bg-color: #3B4455;\n",
              "      --disabled-fill-color: #666;\n",
              "  }\n",
              "\n",
              "  .colab-df-quickchart {\n",
              "    background-color: var(--bg-color);\n",
              "    border: none;\n",
              "    border-radius: 50%;\n",
              "    cursor: pointer;\n",
              "    display: none;\n",
              "    fill: var(--fill-color);\n",
              "    height: 32px;\n",
              "    padding: 0;\n",
              "    width: 32px;\n",
              "  }\n",
              "\n",
              "  .colab-df-quickchart:hover {\n",
              "    background-color: var(--hover-bg-color);\n",
              "    box-shadow: 0 1px 2px rgba(60, 64, 67, 0.3), 0 1px 3px 1px rgba(60, 64, 67, 0.15);\n",
              "    fill: var(--button-hover-fill-color);\n",
              "  }\n",
              "\n",
              "  .colab-df-quickchart-complete:disabled,\n",
              "  .colab-df-quickchart-complete:disabled:hover {\n",
              "    background-color: var(--disabled-bg-color);\n",
              "    fill: var(--disabled-fill-color);\n",
              "    box-shadow: none;\n",
              "  }\n",
              "\n",
              "  .colab-df-spinner {\n",
              "    border: 2px solid var(--fill-color);\n",
              "    border-color: transparent;\n",
              "    border-bottom-color: var(--fill-color);\n",
              "    animation:\n",
              "      spin 1s steps(1) infinite;\n",
              "  }\n",
              "\n",
              "  @keyframes spin {\n",
              "    0% {\n",
              "      border-color: transparent;\n",
              "      border-bottom-color: var(--fill-color);\n",
              "      border-left-color: var(--fill-color);\n",
              "    }\n",
              "    20% {\n",
              "      border-color: transparent;\n",
              "      border-left-color: var(--fill-color);\n",
              "      border-top-color: var(--fill-color);\n",
              "    }\n",
              "    30% {\n",
              "      border-color: transparent;\n",
              "      border-left-color: var(--fill-color);\n",
              "      border-top-color: var(--fill-color);\n",
              "      border-right-color: var(--fill-color);\n",
              "    }\n",
              "    40% {\n",
              "      border-color: transparent;\n",
              "      border-right-color: var(--fill-color);\n",
              "      border-top-color: var(--fill-color);\n",
              "    }\n",
              "    60% {\n",
              "      border-color: transparent;\n",
              "      border-right-color: var(--fill-color);\n",
              "    }\n",
              "    80% {\n",
              "      border-color: transparent;\n",
              "      border-right-color: var(--fill-color);\n",
              "      border-bottom-color: var(--fill-color);\n",
              "    }\n",
              "    90% {\n",
              "      border-color: transparent;\n",
              "      border-bottom-color: var(--fill-color);\n",
              "    }\n",
              "  }\n",
              "</style>\n",
              "\n",
              "  <script>\n",
              "    async function quickchart(key) {\n",
              "      const quickchartButtonEl =\n",
              "        document.querySelector('#' + key + ' button');\n",
              "      quickchartButtonEl.disabled = true;  // To prevent multiple clicks.\n",
              "      quickchartButtonEl.classList.add('colab-df-spinner');\n",
              "      try {\n",
              "        const charts = await google.colab.kernel.invokeFunction(\n",
              "            'suggestCharts', [key], {});\n",
              "      } catch (error) {\n",
              "        console.error('Error during call to suggestCharts:', error);\n",
              "      }\n",
              "      quickchartButtonEl.classList.remove('colab-df-spinner');\n",
              "      quickchartButtonEl.classList.add('colab-df-quickchart-complete');\n",
              "    }\n",
              "    (() => {\n",
              "      let quickchartButtonEl =\n",
              "        document.querySelector('#df-c6509ee8-89cf-47c8-9995-e040c0a30c8b button');\n",
              "      quickchartButtonEl.style.display =\n",
              "        google.colab.kernel.accessAllowed ? 'block' : 'none';\n",
              "    })();\n",
              "  </script>\n",
              "</div>\n",
              "    </div>\n",
              "  </div>\n"
            ],
            "application/vnd.google.colaboratory.intrinsic+json": {
              "type": "dataframe",
              "variable_name": "df_cleaned"
            }
          },
          "metadata": {},
          "execution_count": 14
        }
      ]
    },
    {
      "cell_type": "markdown",
      "source": [
        "#Data Visualization"
      ],
      "metadata": {
        "id": "WLqthSWomTnk"
      }
    },
    {
      "cell_type": "code",
      "source": [
        "df_cleaned"
      ],
      "metadata": {
        "colab": {
          "base_uri": "https://localhost:8080/",
          "height": 423
        },
        "id": "LSgxosMKmXod",
        "outputId": "5aa7119e-76d9-47cc-c6ef-45deb4fe0a01"
      },
      "execution_count": null,
      "outputs": [
        {
          "output_type": "execute_result",
          "data": {
            "text/plain": [
              "             X     Y     Z       EDA     HR   TEMP  id  \\\n",
              "262144   -42.0  -6.0  59.0  9.957165  96.60  32.37  15   \n",
              "262145   -46.0  -9.0  58.0  9.957165  96.60  32.37  15   \n",
              "262146   -45.0 -12.0  58.0  9.957165  96.60  32.37  15   \n",
              "262147   -41.0 -10.0  50.0  9.957165  96.60  32.37  15   \n",
              "262148   -43.0  -8.0  43.0  9.957165  96.60  32.37  15   \n",
              "...        ...   ...   ...       ...    ...    ...  ..   \n",
              "11509046 -16.0 -56.0  24.0  3.386070  88.37  33.77  F5   \n",
              "11509047  -8.0 -50.0  27.0  3.386070  88.37  33.77  F5   \n",
              "11509048 -28.0 -36.0  28.0  3.386070  88.37  33.77  F5   \n",
              "11509049 -29.0 -29.0  30.0  3.386070  88.37  33.77  F5   \n",
              "11509050 -22.0 -24.0  29.0  3.374543  88.33  33.75  F5   \n",
              "\n",
              "                               datetime  label  \n",
              "262144    2020-07-24 13:22:31.781250048    2.0  \n",
              "262145    2020-07-24 13:22:31.812499968    2.0  \n",
              "262146    2020-07-24 13:22:31.843749888    2.0  \n",
              "262147    2020-07-24 13:22:31.875000064    2.0  \n",
              "262148    2020-07-24 13:22:31.906249984    2.0  \n",
              "...                                 ...    ...  \n",
              "11509046  2020-07-23 17:28:59.875000064    2.0  \n",
              "11509047  2020-07-23 17:28:59.906249984    2.0  \n",
              "11509048  2020-07-23 17:28:59.937499904    2.0  \n",
              "11509049  2020-07-23 17:28:59.968750080    2.0  \n",
              "11509050  2020-07-23 17:29:00.000000000    2.0  \n",
              "\n",
              "[8965481 rows x 9 columns]"
            ],
            "text/html": [
              "\n",
              "  <div id=\"df-90840ca6-81e8-4e09-92ff-52863c34a7f3\" class=\"colab-df-container\">\n",
              "    <div>\n",
              "<style scoped>\n",
              "    .dataframe tbody tr th:only-of-type {\n",
              "        vertical-align: middle;\n",
              "    }\n",
              "\n",
              "    .dataframe tbody tr th {\n",
              "        vertical-align: top;\n",
              "    }\n",
              "\n",
              "    .dataframe thead th {\n",
              "        text-align: right;\n",
              "    }\n",
              "</style>\n",
              "<table border=\"1\" class=\"dataframe\">\n",
              "  <thead>\n",
              "    <tr style=\"text-align: right;\">\n",
              "      <th></th>\n",
              "      <th>X</th>\n",
              "      <th>Y</th>\n",
              "      <th>Z</th>\n",
              "      <th>EDA</th>\n",
              "      <th>HR</th>\n",
              "      <th>TEMP</th>\n",
              "      <th>id</th>\n",
              "      <th>datetime</th>\n",
              "      <th>label</th>\n",
              "    </tr>\n",
              "  </thead>\n",
              "  <tbody>\n",
              "    <tr>\n",
              "      <th>262144</th>\n",
              "      <td>-42.0</td>\n",
              "      <td>-6.0</td>\n",
              "      <td>59.0</td>\n",
              "      <td>9.957165</td>\n",
              "      <td>96.60</td>\n",
              "      <td>32.37</td>\n",
              "      <td>15</td>\n",
              "      <td>2020-07-24 13:22:31.781250048</td>\n",
              "      <td>2.0</td>\n",
              "    </tr>\n",
              "    <tr>\n",
              "      <th>262145</th>\n",
              "      <td>-46.0</td>\n",
              "      <td>-9.0</td>\n",
              "      <td>58.0</td>\n",
              "      <td>9.957165</td>\n",
              "      <td>96.60</td>\n",
              "      <td>32.37</td>\n",
              "      <td>15</td>\n",
              "      <td>2020-07-24 13:22:31.812499968</td>\n",
              "      <td>2.0</td>\n",
              "    </tr>\n",
              "    <tr>\n",
              "      <th>262146</th>\n",
              "      <td>-45.0</td>\n",
              "      <td>-12.0</td>\n",
              "      <td>58.0</td>\n",
              "      <td>9.957165</td>\n",
              "      <td>96.60</td>\n",
              "      <td>32.37</td>\n",
              "      <td>15</td>\n",
              "      <td>2020-07-24 13:22:31.843749888</td>\n",
              "      <td>2.0</td>\n",
              "    </tr>\n",
              "    <tr>\n",
              "      <th>262147</th>\n",
              "      <td>-41.0</td>\n",
              "      <td>-10.0</td>\n",
              "      <td>50.0</td>\n",
              "      <td>9.957165</td>\n",
              "      <td>96.60</td>\n",
              "      <td>32.37</td>\n",
              "      <td>15</td>\n",
              "      <td>2020-07-24 13:22:31.875000064</td>\n",
              "      <td>2.0</td>\n",
              "    </tr>\n",
              "    <tr>\n",
              "      <th>262148</th>\n",
              "      <td>-43.0</td>\n",
              "      <td>-8.0</td>\n",
              "      <td>43.0</td>\n",
              "      <td>9.957165</td>\n",
              "      <td>96.60</td>\n",
              "      <td>32.37</td>\n",
              "      <td>15</td>\n",
              "      <td>2020-07-24 13:22:31.906249984</td>\n",
              "      <td>2.0</td>\n",
              "    </tr>\n",
              "    <tr>\n",
              "      <th>...</th>\n",
              "      <td>...</td>\n",
              "      <td>...</td>\n",
              "      <td>...</td>\n",
              "      <td>...</td>\n",
              "      <td>...</td>\n",
              "      <td>...</td>\n",
              "      <td>...</td>\n",
              "      <td>...</td>\n",
              "      <td>...</td>\n",
              "    </tr>\n",
              "    <tr>\n",
              "      <th>11509046</th>\n",
              "      <td>-16.0</td>\n",
              "      <td>-56.0</td>\n",
              "      <td>24.0</td>\n",
              "      <td>3.386070</td>\n",
              "      <td>88.37</td>\n",
              "      <td>33.77</td>\n",
              "      <td>F5</td>\n",
              "      <td>2020-07-23 17:28:59.875000064</td>\n",
              "      <td>2.0</td>\n",
              "    </tr>\n",
              "    <tr>\n",
              "      <th>11509047</th>\n",
              "      <td>-8.0</td>\n",
              "      <td>-50.0</td>\n",
              "      <td>27.0</td>\n",
              "      <td>3.386070</td>\n",
              "      <td>88.37</td>\n",
              "      <td>33.77</td>\n",
              "      <td>F5</td>\n",
              "      <td>2020-07-23 17:28:59.906249984</td>\n",
              "      <td>2.0</td>\n",
              "    </tr>\n",
              "    <tr>\n",
              "      <th>11509048</th>\n",
              "      <td>-28.0</td>\n",
              "      <td>-36.0</td>\n",
              "      <td>28.0</td>\n",
              "      <td>3.386070</td>\n",
              "      <td>88.37</td>\n",
              "      <td>33.77</td>\n",
              "      <td>F5</td>\n",
              "      <td>2020-07-23 17:28:59.937499904</td>\n",
              "      <td>2.0</td>\n",
              "    </tr>\n",
              "    <tr>\n",
              "      <th>11509049</th>\n",
              "      <td>-29.0</td>\n",
              "      <td>-29.0</td>\n",
              "      <td>30.0</td>\n",
              "      <td>3.386070</td>\n",
              "      <td>88.37</td>\n",
              "      <td>33.77</td>\n",
              "      <td>F5</td>\n",
              "      <td>2020-07-23 17:28:59.968750080</td>\n",
              "      <td>2.0</td>\n",
              "    </tr>\n",
              "    <tr>\n",
              "      <th>11509050</th>\n",
              "      <td>-22.0</td>\n",
              "      <td>-24.0</td>\n",
              "      <td>29.0</td>\n",
              "      <td>3.374543</td>\n",
              "      <td>88.33</td>\n",
              "      <td>33.75</td>\n",
              "      <td>F5</td>\n",
              "      <td>2020-07-23 17:29:00.000000000</td>\n",
              "      <td>2.0</td>\n",
              "    </tr>\n",
              "  </tbody>\n",
              "</table>\n",
              "<p>8965481 rows × 9 columns</p>\n",
              "</div>\n",
              "    <div class=\"colab-df-buttons\">\n",
              "\n",
              "  <div class=\"colab-df-container\">\n",
              "    <button class=\"colab-df-convert\" onclick=\"convertToInteractive('df-90840ca6-81e8-4e09-92ff-52863c34a7f3')\"\n",
              "            title=\"Convert this dataframe to an interactive table.\"\n",
              "            style=\"display:none;\">\n",
              "\n",
              "  <svg xmlns=\"http://www.w3.org/2000/svg\" height=\"24px\" viewBox=\"0 -960 960 960\">\n",
              "    <path d=\"M120-120v-720h720v720H120Zm60-500h600v-160H180v160Zm220 220h160v-160H400v160Zm0 220h160v-160H400v160ZM180-400h160v-160H180v160Zm440 0h160v-160H620v160ZM180-180h160v-160H180v160Zm440 0h160v-160H620v160Z\"/>\n",
              "  </svg>\n",
              "    </button>\n",
              "\n",
              "  <style>\n",
              "    .colab-df-container {\n",
              "      display:flex;\n",
              "      gap: 12px;\n",
              "    }\n",
              "\n",
              "    .colab-df-convert {\n",
              "      background-color: #E8F0FE;\n",
              "      border: none;\n",
              "      border-radius: 50%;\n",
              "      cursor: pointer;\n",
              "      display: none;\n",
              "      fill: #1967D2;\n",
              "      height: 32px;\n",
              "      padding: 0 0 0 0;\n",
              "      width: 32px;\n",
              "    }\n",
              "\n",
              "    .colab-df-convert:hover {\n",
              "      background-color: #E2EBFA;\n",
              "      box-shadow: 0px 1px 2px rgba(60, 64, 67, 0.3), 0px 1px 3px 1px rgba(60, 64, 67, 0.15);\n",
              "      fill: #174EA6;\n",
              "    }\n",
              "\n",
              "    .colab-df-buttons div {\n",
              "      margin-bottom: 4px;\n",
              "    }\n",
              "\n",
              "    [theme=dark] .colab-df-convert {\n",
              "      background-color: #3B4455;\n",
              "      fill: #D2E3FC;\n",
              "    }\n",
              "\n",
              "    [theme=dark] .colab-df-convert:hover {\n",
              "      background-color: #434B5C;\n",
              "      box-shadow: 0px 1px 3px 1px rgba(0, 0, 0, 0.15);\n",
              "      filter: drop-shadow(0px 1px 2px rgba(0, 0, 0, 0.3));\n",
              "      fill: #FFFFFF;\n",
              "    }\n",
              "  </style>\n",
              "\n",
              "    <script>\n",
              "      const buttonEl =\n",
              "        document.querySelector('#df-90840ca6-81e8-4e09-92ff-52863c34a7f3 button.colab-df-convert');\n",
              "      buttonEl.style.display =\n",
              "        google.colab.kernel.accessAllowed ? 'block' : 'none';\n",
              "\n",
              "      async function convertToInteractive(key) {\n",
              "        const element = document.querySelector('#df-90840ca6-81e8-4e09-92ff-52863c34a7f3');\n",
              "        const dataTable =\n",
              "          await google.colab.kernel.invokeFunction('convertToInteractive',\n",
              "                                                    [key], {});\n",
              "        if (!dataTable) return;\n",
              "\n",
              "        const docLinkHtml = 'Like what you see? Visit the ' +\n",
              "          '<a target=\"_blank\" href=https://colab.research.google.com/notebooks/data_table.ipynb>data table notebook</a>'\n",
              "          + ' to learn more about interactive tables.';\n",
              "        element.innerHTML = '';\n",
              "        dataTable['output_type'] = 'display_data';\n",
              "        await google.colab.output.renderOutput(dataTable, element);\n",
              "        const docLink = document.createElement('div');\n",
              "        docLink.innerHTML = docLinkHtml;\n",
              "        element.appendChild(docLink);\n",
              "      }\n",
              "    </script>\n",
              "  </div>\n",
              "\n",
              "\n",
              "<div id=\"df-d6c12927-da01-4697-9392-9b48ce38b3c3\">\n",
              "  <button class=\"colab-df-quickchart\" onclick=\"quickchart('df-d6c12927-da01-4697-9392-9b48ce38b3c3')\"\n",
              "            title=\"Suggest charts\"\n",
              "            style=\"display:none;\">\n",
              "\n",
              "<svg xmlns=\"http://www.w3.org/2000/svg\" height=\"24px\"viewBox=\"0 0 24 24\"\n",
              "     width=\"24px\">\n",
              "    <g>\n",
              "        <path d=\"M19 3H5c-1.1 0-2 .9-2 2v14c0 1.1.9 2 2 2h14c1.1 0 2-.9 2-2V5c0-1.1-.9-2-2-2zM9 17H7v-7h2v7zm4 0h-2V7h2v10zm4 0h-2v-4h2v4z\"/>\n",
              "    </g>\n",
              "</svg>\n",
              "  </button>\n",
              "\n",
              "<style>\n",
              "  .colab-df-quickchart {\n",
              "      --bg-color: #E8F0FE;\n",
              "      --fill-color: #1967D2;\n",
              "      --hover-bg-color: #E2EBFA;\n",
              "      --hover-fill-color: #174EA6;\n",
              "      --disabled-fill-color: #AAA;\n",
              "      --disabled-bg-color: #DDD;\n",
              "  }\n",
              "\n",
              "  [theme=dark] .colab-df-quickchart {\n",
              "      --bg-color: #3B4455;\n",
              "      --fill-color: #D2E3FC;\n",
              "      --hover-bg-color: #434B5C;\n",
              "      --hover-fill-color: #FFFFFF;\n",
              "      --disabled-bg-color: #3B4455;\n",
              "      --disabled-fill-color: #666;\n",
              "  }\n",
              "\n",
              "  .colab-df-quickchart {\n",
              "    background-color: var(--bg-color);\n",
              "    border: none;\n",
              "    border-radius: 50%;\n",
              "    cursor: pointer;\n",
              "    display: none;\n",
              "    fill: var(--fill-color);\n",
              "    height: 32px;\n",
              "    padding: 0;\n",
              "    width: 32px;\n",
              "  }\n",
              "\n",
              "  .colab-df-quickchart:hover {\n",
              "    background-color: var(--hover-bg-color);\n",
              "    box-shadow: 0 1px 2px rgba(60, 64, 67, 0.3), 0 1px 3px 1px rgba(60, 64, 67, 0.15);\n",
              "    fill: var(--button-hover-fill-color);\n",
              "  }\n",
              "\n",
              "  .colab-df-quickchart-complete:disabled,\n",
              "  .colab-df-quickchart-complete:disabled:hover {\n",
              "    background-color: var(--disabled-bg-color);\n",
              "    fill: var(--disabled-fill-color);\n",
              "    box-shadow: none;\n",
              "  }\n",
              "\n",
              "  .colab-df-spinner {\n",
              "    border: 2px solid var(--fill-color);\n",
              "    border-color: transparent;\n",
              "    border-bottom-color: var(--fill-color);\n",
              "    animation:\n",
              "      spin 1s steps(1) infinite;\n",
              "  }\n",
              "\n",
              "  @keyframes spin {\n",
              "    0% {\n",
              "      border-color: transparent;\n",
              "      border-bottom-color: var(--fill-color);\n",
              "      border-left-color: var(--fill-color);\n",
              "    }\n",
              "    20% {\n",
              "      border-color: transparent;\n",
              "      border-left-color: var(--fill-color);\n",
              "      border-top-color: var(--fill-color);\n",
              "    }\n",
              "    30% {\n",
              "      border-color: transparent;\n",
              "      border-left-color: var(--fill-color);\n",
              "      border-top-color: var(--fill-color);\n",
              "      border-right-color: var(--fill-color);\n",
              "    }\n",
              "    40% {\n",
              "      border-color: transparent;\n",
              "      border-right-color: var(--fill-color);\n",
              "      border-top-color: var(--fill-color);\n",
              "    }\n",
              "    60% {\n",
              "      border-color: transparent;\n",
              "      border-right-color: var(--fill-color);\n",
              "    }\n",
              "    80% {\n",
              "      border-color: transparent;\n",
              "      border-right-color: var(--fill-color);\n",
              "      border-bottom-color: var(--fill-color);\n",
              "    }\n",
              "    90% {\n",
              "      border-color: transparent;\n",
              "      border-bottom-color: var(--fill-color);\n",
              "    }\n",
              "  }\n",
              "</style>\n",
              "\n",
              "  <script>\n",
              "    async function quickchart(key) {\n",
              "      const quickchartButtonEl =\n",
              "        document.querySelector('#' + key + ' button');\n",
              "      quickchartButtonEl.disabled = true;  // To prevent multiple clicks.\n",
              "      quickchartButtonEl.classList.add('colab-df-spinner');\n",
              "      try {\n",
              "        const charts = await google.colab.kernel.invokeFunction(\n",
              "            'suggestCharts', [key], {});\n",
              "      } catch (error) {\n",
              "        console.error('Error during call to suggestCharts:', error);\n",
              "      }\n",
              "      quickchartButtonEl.classList.remove('colab-df-spinner');\n",
              "      quickchartButtonEl.classList.add('colab-df-quickchart-complete');\n",
              "    }\n",
              "    (() => {\n",
              "      let quickchartButtonEl =\n",
              "        document.querySelector('#df-d6c12927-da01-4697-9392-9b48ce38b3c3 button');\n",
              "      quickchartButtonEl.style.display =\n",
              "        google.colab.kernel.accessAllowed ? 'block' : 'none';\n",
              "    })();\n",
              "  </script>\n",
              "</div>\n",
              "    </div>\n",
              "  </div>\n"
            ],
            "application/vnd.google.colaboratory.intrinsic+json": {
              "type": "dataframe",
              "variable_name": "df_cleaned"
            }
          },
          "metadata": {},
          "execution_count": 15
        }
      ]
    },
    {
      "cell_type": "code",
      "source": [
        "# Calculate the average of columns X, Y, and Z\n",
        "df_cleaned['ACC'] = (df_cleaned['X'] + df_cleaned['Y'] + df_cleaned['Z']) / 3\n",
        "\n",
        "# Create a new DataFrame by dropping columns X, Y, and Z from the existing DataFrame df\n",
        "df_cleaned_ACC = df_cleaned.drop(columns=['X', 'Y', 'Z'])\n",
        "\n",
        "# Print the new DataFrame\n",
        "print(df_cleaned_ACC)"
      ],
      "metadata": {
        "colab": {
          "base_uri": "https://localhost:8080/"
        },
        "id": "-BhoJpjUp6zp",
        "outputId": "e55443e2-d151-4bc1-e3e8-386cd3c17ae6"
      },
      "execution_count": null,
      "outputs": [
        {
          "output_type": "stream",
          "name": "stdout",
          "text": [
            "               EDA     HR   TEMP  id                       datetime  label  \\\n",
            "262144    9.957165  96.60  32.37  15  2020-07-24 13:22:31.781250048    2.0   \n",
            "262145    9.957165  96.60  32.37  15  2020-07-24 13:22:31.812499968    2.0   \n",
            "262146    9.957165  96.60  32.37  15  2020-07-24 13:22:31.843749888    2.0   \n",
            "262147    9.957165  96.60  32.37  15  2020-07-24 13:22:31.875000064    2.0   \n",
            "262148    9.957165  96.60  32.37  15  2020-07-24 13:22:31.906249984    2.0   \n",
            "...            ...    ...    ...  ..                            ...    ...   \n",
            "11509046  3.386070  88.37  33.77  F5  2020-07-23 17:28:59.875000064    2.0   \n",
            "11509047  3.386070  88.37  33.77  F5  2020-07-23 17:28:59.906249984    2.0   \n",
            "11509048  3.386070  88.37  33.77  F5  2020-07-23 17:28:59.937499904    2.0   \n",
            "11509049  3.386070  88.37  33.77  F5  2020-07-23 17:28:59.968750080    2.0   \n",
            "11509050  3.374543  88.33  33.75  F5  2020-07-23 17:29:00.000000000    2.0   \n",
            "\n",
            "                ACC  \n",
            "262144     3.666667  \n",
            "262145     1.000000  \n",
            "262146     0.333333  \n",
            "262147    -0.333333  \n",
            "262148    -2.666667  \n",
            "...             ...  \n",
            "11509046 -16.000000  \n",
            "11509047 -10.333333  \n",
            "11509048 -12.000000  \n",
            "11509049  -9.333333  \n",
            "11509050  -5.666667  \n",
            "\n",
            "[8965481 rows x 7 columns]\n"
          ]
        }
      ]
    },
    {
      "cell_type": "code",
      "source": [
        "import matplotlib.pyplot as plt\n",
        "\n",
        "# Group by 'label' and calculate the average values for each feature\n",
        "grouped_data = df_cleaned_ACC.groupby('label').mean()\n",
        "\n",
        "# Create subplots\n",
        "fig, axes = plt.subplots(nrows=2, ncols=2, figsize=(15, 10))\n",
        "\n",
        "# Plot each feature in a separate subplot\n",
        "features = ['TEMP', 'HR', 'EDA', 'ACC']\n",
        "colors = ['orange', 'red', 'purple', 'yellow']\n",
        "\n",
        "for i, ax in enumerate(axes.flat):\n",
        "    if i < len(features):  # Check if index is within the range of features\n",
        "        feature = features[i]\n",
        "        color = colors[i]\n",
        "        ax.bar(grouped_data.index, grouped_data[feature], color=color)\n",
        "        ax.set_title(f'Average {feature} by Stress Level')\n",
        "        ax.set_xlabel('Stress Level (Label)')\n",
        "        ax.set_ylabel('Average Value')\n",
        "\n",
        "# Adjust layout\n",
        "plt.tight_layout()\n",
        "\n",
        "# Show plot\n",
        "plt.show()\n"
      ],
      "metadata": {
        "colab": {
          "base_uri": "https://localhost:8080/",
          "height": 643
        },
        "id": "EVuws2WQzeDZ",
        "outputId": "5a93d8ee-a1be-4a5c-af49-22083ba858a2"
      },
      "execution_count": null,
      "outputs": [
        {
          "output_type": "stream",
          "name": "stderr",
          "text": [
            "<ipython-input-17-03c4d65ef9aa>:4: FutureWarning: The default value of numeric_only in DataFrameGroupBy.mean is deprecated. In a future version, numeric_only will default to False. Either specify numeric_only or select only columns which should be valid for the function.\n",
            "  grouped_data = df_cleaned_ACC.groupby('label').mean()\n"
          ]
        },
        {
          "output_type": "display_data",
          "data": {
            "text/plain": [
              "<Figure size 1500x1000 with 4 Axes>"
            ],
            "image/png": "[encoded data removed]"
          },
          "metadata": {}
        }
      ]
    },
    {
      "cell_type": "code",
      "source": [
        "# Group by 'label' and calculate the average values for each feature\n",
        "grouped_data = df_cleaned_ACC.groupby('label').mean()\n",
        "\n",
        "# Display the grouped data in a table format\n",
        "print(\"Average Sensor Readings by Stress Level:\")\n",
        "print(grouped_data)\n"
      ],
      "metadata": {
        "colab": {
          "base_uri": "https://localhost:8080/"
        },
        "id": "jz83Nwk-z2td",
        "outputId": "fdb93561-03a2-4f5b-ffa0-987ce13e4d6f"
      },
      "execution_count": null,
      "outputs": [
        {
          "output_type": "stream",
          "name": "stdout",
          "text": [
            "Average Sensor Readings by Stress Level:\n",
            "            EDA         HR       TEMP       ACC\n",
            "label                                          \n",
            "0.0    3.110010  86.781434  30.901649  2.730095\n",
            "1.0    2.303219  86.250717  31.523047 -2.002374\n",
            "2.0    3.326602  85.438311  32.027571 -0.825207\n"
          ]
        },
        {
          "output_type": "stream",
          "name": "stderr",
          "text": [
            "<ipython-input-18-a530bcf58815>:2: FutureWarning: The default value of numeric_only in DataFrameGroupBy.mean is deprecated. In a future version, numeric_only will default to False. Either specify numeric_only or select only columns which should be valid for the function.\n",
            "  grouped_data = df_cleaned_ACC.groupby('label').mean()\n"
          ]
        }
      ]
    },
    {
      "cell_type": "code",
      "source": [
        "# Specify the file path where you want to save the CSV file\n",
        "csv_file_path = \"df_cleaned_ACC.csv\"\n",
        "\n",
        "# Save the DataFrame to a CSV file\n",
        "df_cleaned_ACC.to_csv(csv_file_path, index=False)\n",
        "\n",
        "print(f\"DataFrame has been saved to {csv_file_path}\")"
      ],
      "metadata": {
        "colab": {
          "base_uri": "https://localhost:8080/"
        },
        "id": "CqqyUd0jMsot",
        "outputId": "f828c821-6336-47db-a176-5bf9f74accc7"
      },
      "execution_count": null,
      "outputs": [
        {
          "output_type": "stream",
          "name": "stdout",
          "text": [
            "DataFrame has been saved to df_cleaned_ACC.csv\n"
          ]
        }
      ]
    },
    {
      "cell_type": "markdown",
      "source": [
        "Dataset is ready for Correlation Analysis in Jupyter Notebook"
      ],
      "metadata": {
        "id": "sD4owz91PKbn"
      }
    },
    {
      "cell_type": "markdown",
      "source": [
        "#Statistical Model"
      ],
      "metadata": {
        "id": "WV-DLx2dS0_s"
      }
    },
    {
      "cell_type": "code",
      "source": [
        "import seaborn as sns\n",
        "import matplotlib.pyplot as plt\n",
        "from scipy.stats import pearsonr, spearmanr\n",
        "import numpy as np\n",
        "\n",
        "# Define the color code\n",
        "data_point_color = '#40679E'\n",
        "\n",
        "# Check if 'TEMP' data is normally distributed\n",
        "if np.abs(df_cleaned_ACC['EDA'].skew()) < 1:\n",
        "    # Data is normally distributed\n",
        "    correlation_coefficient, p_value = pearsonr(df_cleaned_ACC['label'], df_cleaned_ACC['EDA'])\n",
        "    correlation_type = \"Pearson\"\n",
        "else:\n",
        "    # Data is not normally distributed\n",
        "    correlation_coefficient, p_value = spearmanr(df_cleaned_ACC['label'], df_cleaned_ACC['EDA'])\n",
        "    correlation_type = \"Spearman\"\n",
        "\n",
        "# Create scatter plot with regression line and specified color for data points\n",
        "sns.lmplot(x='EDA', y='label', data=df_cleaned_ACC, line_kws={'color': 'red'}, scatter_kws={'color': data_point_color})\n",
        "\n",
        "# Annotate plot with correlation coefficient and p-value\n",
        "plt.text(0.5, 0.9, f\"{correlation_type} score: {correlation_coefficient:.2f}\\nP-value: {p_value:.2e}\",\n",
        "         horizontalalignment='center', verticalalignment='center', transform=plt.gca().transAxes)\n",
        "\n",
        "# Set Y-axis label\n",
        "plt.ylabel('Stress Level')\n",
        "\n",
        "# Set plot title\n",
        "plt.title(f'Relationship between EDA and Stress Level')\n",
        "\n",
        "# Save the figure\n",
        "plt.savefig('EDA_vs_StressLevel.png')\n",
        "\n",
        "# Show plot\n",
        "plt.show()\n"
      ],
      "metadata": {
        "colab": {
          "base_uri": "https://localhost:8080/",
          "height": 529
        },
        "id": "PLN9Ume8PSgJ",
        "outputId": "840d0499-4317-4258-9178-d6ffed6b7e57"
      },
      "execution_count": null,
      "outputs": [
        {
          "output_type": "display_data",
          "data": {
            "text/plain": [
              "<Figure size 500x500 with 1 Axes>"
            ],
            "image/png": "[encoded data removed]"
          },
          "metadata": {}
        }
      ]
    },
    {
      "cell_type": "code",
      "source": [
        "import seaborn as sns\n",
        "import matplotlib.pyplot as plt\n",
        "from scipy.stats import pearsonr, spearmanr\n",
        "import numpy as np\n",
        "\n",
        "# Define the color code\n",
        "data_point_color = '#A5DD9B'\n",
        "\n",
        "# Check if 'TEMP' data is normally distributed\n",
        "if np.abs(df_cleaned_ACC['HR'].skew()) < 1:\n",
        "    # Data is normally distributed\n",
        "    correlation_coefficient, p_value = pearsonr(df_cleaned_ACC['label'], df_cleaned_ACC['HR'])\n",
        "    correlation_type = \"Pearson\"\n",
        "else:\n",
        "    # Data is not normally distributed\n",
        "    correlation_coefficient, p_value = spearmanr(df_cleaned_ACC['label'], df_cleaned_ACC['HR'])\n",
        "    correlation_type = \"Spearman\"\n",
        "\n",
        "# Create scatter plot with regression line and specified color for data points\n",
        "sns.lmplot(x='HR', y='label', data=df_cleaned_ACC, line_kws={'color': 'red'}, scatter_kws={'color': data_point_color})\n",
        "\n",
        "# Annotate plot with correlation coefficient and p-value\n",
        "plt.text(0.5, 0.9, f\"{correlation_type} score: {correlation_coefficient:.2f}\\nP-value: {p_value:.2e}\",\n",
        "         horizontalalignment='center', verticalalignment='center', transform=plt.gca().transAxes)\n",
        "\n",
        "# Set Y-axis label\n",
        "plt.ylabel('Stress Level')\n",
        "\n",
        "# Set plot title\n",
        "plt.title(f'Relationship between HR and Stress Level')\n",
        "\n",
        "# Save the figure\n",
        "plt.savefig('HR_vs_StressLevel.png')\n",
        "\n",
        "# Show plot\n",
        "plt.show()\n"
      ],
      "metadata": {
        "colab": {
          "base_uri": "https://localhost:8080/",
          "height": 529
        },
        "id": "5tfNkTrbdlmF",
        "outputId": "8d1f4db2-d9f3-4c37-faba-facfb0c21c75"
      },
      "execution_count": null,
      "outputs": [
        {
          "output_type": "display_data",
          "data": {
            "text/plain": [
              "<Figure size 500x500 with 1 Axes>"
            ],
            "image/png": "[encoded data removed]"
          },
          "metadata": {}
        }
      ]
    },
    {
      "cell_type": "code",
      "source": [
        "import seaborn as sns\n",
        "import matplotlib.pyplot as plt\n",
        "from scipy.stats import pearsonr, spearmanr\n",
        "import numpy as np\n",
        "\n",
        "# Define the color code\n",
        "data_point_color = '#337357'\n",
        "\n",
        "# Check if 'TEMP' data is normally distributed\n",
        "if np.abs(df_cleaned_ACC['ACC'].skew()) < 1:\n",
        "    # Data is normally distributed\n",
        "    correlation_coefficient, p_value = pearsonr(df_cleaned_ACC['label'], df_cleaned_ACC['ACC'])\n",
        "    correlation_type = \"Pearson\"\n",
        "else:\n",
        "    # Data is not normally distributed\n",
        "    correlation_coefficient, p_value = spearmanr(df_cleaned_ACC['label'], df_cleaned_ACC['ACC'])\n",
        "    correlation_type = \"Spearman\"\n",
        "\n",
        "# Create scatter plot with regression line and specified color for data points\n",
        "sns.lmplot(x='ACC', y='label', data=df_cleaned_ACC, line_kws={'color': 'red'}, scatter_kws={'color': data_point_color})\n",
        "\n",
        "# Annotate plot with correlation coefficient and p-value\n",
        "plt.text(0.5, 0.9, f\"{correlation_type} score: {correlation_coefficient:.2f}\\nP-value: {p_value:.2e}\",\n",
        "         horizontalalignment='center', verticalalignment='center', transform=plt.gca().transAxes)\n",
        "\n",
        "# Set Y-axis label\n",
        "plt.ylabel('Stress Level')\n",
        "\n",
        "# Set plot title\n",
        "plt.title(f'Relationship between Accelerometer and Stress Level')\n",
        "\n",
        "# Save the figure\n",
        "plt.savefig('accelerometer_vs_StressLevel.png')\n",
        "\n",
        "# Show plot\n",
        "plt.show()\n"
      ],
      "metadata": {
        "colab": {
          "base_uri": "https://localhost:8080/",
          "height": 529
        },
        "id": "_qxvcEF0c5bL",
        "outputId": "a186d9c8-f854-4d00-e750-e747854f5bb4"
      },
      "execution_count": null,
      "outputs": [
        {
          "output_type": "display_data",
          "data": {
            "text/plain": [
              "<Figure size 500x500 with 1 Axes>"
            ],
            "image/png": "[encoded data removed]"
          },
          "metadata": {}
        }
      ]
    },
    {
      "cell_type": "code",
      "source": [
        "import seaborn as sns\n",
        "import matplotlib.pyplot as plt\n",
        "from scipy.stats import pearsonr, spearmanr\n",
        "import numpy as np\n",
        "\n",
        "# Define the color code\n",
        "data_point_color = '#F6995C'\n",
        "\n",
        "# Check if 'TEMP' data is normally distributed\n",
        "if np.abs(df_cleaned_ACC['TEMP'].skew()) < 1:\n",
        "    # Data is normally distributed\n",
        "    correlation_coefficient, p_value = pearsonr(df_cleaned_ACC['label'], df_cleaned_ACC['TEMP'])\n",
        "    correlation_type = \"Pearson\"\n",
        "else:\n",
        "    # Data is not normally distributed\n",
        "    correlation_coefficient, p_value = spearmanr(df_cleaned_ACC['label'], df_cleaned_ACC['TEMP'])\n",
        "    correlation_type = \"Spearman\"\n",
        "\n",
        "# Create scatter plot with regression line and specified color for data points\n",
        "sns.lmplot(x='TEMP', y='label', data=df_cleaned_ACC, line_kws={'color': 'red'}, scatter_kws={'color': data_point_color})\n",
        "\n",
        "# Annotate plot with correlation coefficient and p-value\n",
        "plt.text(0.5, 0.9, f\"{correlation_type} score: {correlation_coefficient:.2f}\\nP-value: {p_value:.2e}\",\n",
        "         horizontalalignment='center', verticalalignment='center', transform=plt.gca().transAxes)\n",
        "\n",
        "# Set Y-axis label\n",
        "plt.ylabel('Stress Level')\n",
        "\n",
        "# Set plot title\n",
        "plt.title(f'Relationship between TEMP and Stress Level')\n",
        "\n",
        "# Save the figure\n",
        "plt.savefig('TEMP_vs_StressLevel.png')\n",
        "\n",
        "# Show plot\n",
        "plt.show()\n"
      ],
      "metadata": {
        "colab": {
          "base_uri": "https://localhost:8080/",
          "height": 529
        },
        "id": "SxJeR8Omssk5",
        "outputId": "457331c0-659a-44d6-84af-0b3bc66352fc"
      },
      "execution_count": null,
      "outputs": [
        {
          "output_type": "display_data",
          "data": {
            "text/plain": [
              "<Figure size 500x500 with 1 Axes>"
            ],
            "image/png": "[encoded data removed]"
          },
          "metadata": {}
        }
      ]
    },
    {
      "cell_type": "code",
      "source": [
        "import pandas as pd\n",
        "from scipy.stats import ttest_ind\n",
        "\n",
        "# Create two groups based on stress level: high stress (2) and low stress (0)\n",
        "high_stress_group = df_cleaned_ACC[df_cleaned_ACC['label'] == 2][['EDA', 'HR', 'TEMP', 'ACC']]\n",
        "low_stress_group = df_cleaned_ACC[df_cleaned_ACC['label'] == 0][['EDA', 'HR', 'TEMP', 'ACC']]\n",
        "\n",
        "# Initialize dictionaries to store t-statistics and p-values for each variable\n",
        "t_statistics = {}\n",
        "p_values = {}\n",
        "\n",
        "# Perform t-test for each variable\n",
        "for column in high_stress_group.columns:\n",
        "    t_statistic, p_value = ttest_ind(high_stress_group[column], low_stress_group[column])\n",
        "    t_statistics[column] = t_statistic\n",
        "    p_values[column] = p_value\n",
        "\n",
        "# Print results\n",
        "for column in t_statistics:\n",
        "    print(f\"T-statistic for {column}: {t_statistics[column]}\")\n",
        "    print(f\"P-value for {column}: {p_values[column]}\")\n"
      ],
      "metadata": {
        "colab": {
          "base_uri": "https://localhost:8080/"
        },
        "id": "pKJcqnIhjLap",
        "outputId": "02424be3-48ff-475d-8588-a949946dba10"
      },
      "execution_count": null,
      "outputs": [
        {
          "output_type": "stream",
          "name": "stdout",
          "text": [
            "T-statistic for EDA: 42.42989738009486\n",
            "P-value for EDA: 0.0\n",
            "T-statistic for HR: -103.73347698698241\n",
            "P-value for HR: 0.0\n",
            "T-statistic for TEMP: 571.4040441064761\n",
            "P-value for TEMP: 0.0\n",
            "T-statistic for ACC: -205.97798557439125\n",
            "P-value for ACC: 0.0\n"
          ]
        }
      ]
    },
    {
      "cell_type": "code",
      "source": [
        "import pandas as pd\n",
        "from statsmodels.multivariate.manova import MANOVA\n",
        "\n",
        "# Assuming df_cleaned_ACC contains the dataset with EDA, HR, TEMP, ACC, and stress level\n",
        "# Replace the column names and dataset accordingly if needed\n",
        "\n",
        "# Extracting independent variables (physiological measures)\n",
        "independent_vars = ['EDA', 'HR', 'TEMP', 'ACC']\n",
        "X = df_cleaned_ACC[independent_vars]\n",
        "\n",
        "# Dependent variable (stress level)\n",
        "y = df_cleaned_ACC['label']\n",
        "\n",
        "# Perform MANOVA\n",
        "manova = MANOVA(X, y)\n",
        "\n",
        "# Print the MANOVA results\n",
        "print(manova.mv_test())\n"
      ],
      "metadata": {
        "colab": {
          "base_uri": "https://localhost:8080/"
        },
        "id": "0Yi4ftimnOxm",
        "outputId": "9ceda8f3-3d6f-4388-f77a-be587ce6d755"
      },
      "execution_count": null,
      "outputs": [
        {
          "output_type": "stream",
          "name": "stdout",
          "text": [
            "                      Multivariate linear model\n",
            "======================================================================\n",
            "                                                                      \n",
            "----------------------------------------------------------------------\n",
            "           x0           Value  Num DF    Den DF      F Value    Pr > F\n",
            "----------------------------------------------------------------------\n",
            "          Wilks' lambda 0.1848 4.0000 8965477.0000 9890378.8111 0.0000\n",
            "         Pillai's trace 0.8152 4.0000 8965477.0000 9890378.8111 0.0000\n",
            " Hotelling-Lawley trace 4.4127 4.0000 8965476.9990 9890378.8111 0.0000\n",
            "    Roy's greatest root 4.4127 4.0000 8965477.0000 9890378.8111 0.0000\n",
            "======================================================================\n",
            "\n"
          ]
        }
      ]
    },
    {
      "cell_type": "code",
      "source": [
        "import pandas as pd\n",
        "import matplotlib.pyplot as plt\n",
        "import seaborn as sns\n",
        "\n",
        "# Load the data\n",
        "# Assuming df_cleaned_ACC contains the dataset with columns: datetime, EDA, HR, TEMP, ACC, and label\n",
        "# Convert datetime column to datetime data type\n",
        "df_cleaned_ACC['datetime'] = pd.to_datetime(df_cleaned_ACC['datetime'])\n",
        "\n",
        "# Set datetime column as the index\n",
        "df_cleaned_ACC.set_index('datetime', inplace=True)\n",
        "\n",
        "# Plot time series for each physiological measure\n",
        "plt.figure(figsize=(14, 8))\n",
        "\n",
        "# EDA\n",
        "plt.subplot(2, 2, 1)\n",
        "sns.lineplot(data=df_cleaned_ACC, x=df_cleaned_ACC.index, y='EDA', hue='label')\n",
        "plt.title('EDA Over Time')\n",
        "plt.xlabel('Time')\n",
        "plt.ylabel('EDA')\n",
        "\n",
        "# HR\n",
        "plt.subplot(2, 2, 2)\n",
        "sns.lineplot(data=df_cleaned_ACC, x=df_cleaned_ACC.index, y='HR', hue='label')\n",
        "plt.title('HR Over Time')\n",
        "plt.xlabel('Time')\n",
        "plt.ylabel('HR')\n",
        "\n",
        "# TEMP\n",
        "plt.subplot(2, 2, 3)\n",
        "sns.lineplot(data=df_cleaned_ACC, x=df_cleaned_ACC.index, y='TEMP', hue='label')\n",
        "plt.title('Temperature Over Time')\n",
        "plt.xlabel('Time')\n",
        "plt.ylabel('Temperature')\n",
        "\n",
        "# ACC\n",
        "plt.subplot(2, 2, 4)\n",
        "sns.lineplot(data=df_cleaned_ACC, x=df_cleaned_ACC.index, y='ACC', hue='label')\n",
        "plt.title('Accelerometer Readings Over Time')\n",
        "plt.xlabel('Time')\n",
        "plt.ylabel('ACC')\n",
        "\n",
        "plt.tight_layout()\n",
        "plt.show()\n"
      ],
      "metadata": {
        "id": "XbA56XYBoj3_"
      },
      "execution_count": null,
      "outputs": []
    },
    {
      "cell_type": "markdown",
      "source": [
        "#ML Model"
      ],
      "metadata": {
        "id": "GXamQP-6LqlS"
      }
    },
    {
      "cell_type": "markdown",
      "source": [
        "Making a small dataframe for analysis."
      ],
      "metadata": {
        "id": "ubcq8cm7hJCX"
      }
    },
    {
      "cell_type": "code",
      "source": [
        "import pandas as pd\n",
        "\n",
        "# Assuming df_cleaned_ACC is your original dataframe\n",
        "\n",
        "# First 50000 rows\n",
        "first_50000 = df_cleaned_ACC.head(500000)\n",
        "\n",
        "# Middle 50000 rows\n",
        "middle_50000 = df_cleaned_ACC.iloc[len(df_cleaned_ACC)//2 - 250000:len(df_cleaned_ACC)//2 + 250000]\n",
        "\n",
        "# Last 5000 rows\n",
        "last_50000 = df_cleaned_ACC.tail(500000)\n",
        "small_df = pd.concat([first_50000, middle_50000, last_50000], ignore_index=True)\n",
        "\n",
        "# Print the combined dataframe\n",
        "print(small_df)"
      ],
      "metadata": {
        "colab": {
          "base_uri": "https://localhost:8080/"
        },
        "id": "1A4_g7jnhIF-",
        "outputId": "6e053f22-d85a-4829-fd8e-40a90414a41e"
      },
      "execution_count": null,
      "outputs": [
        {
          "output_type": "stream",
          "name": "stdout",
          "text": [
            "              EDA     HR   TEMP  id                       datetime  label  \\\n",
            "0        9.957165  96.60  32.37  15  2020-07-24 13:22:31.781250048    2.0   \n",
            "1        9.957165  96.60  32.37  15  2020-07-24 13:22:31.812499968    2.0   \n",
            "2        9.957165  96.60  32.37  15  2020-07-24 13:22:31.843749888    2.0   \n",
            "3        9.957165  96.60  32.37  15  2020-07-24 13:22:31.875000064    2.0   \n",
            "4        9.957165  96.60  32.37  15  2020-07-24 13:22:31.906249984    2.0   \n",
            "...           ...    ...    ...  ..                            ...    ...   \n",
            "1499995  3.386070  88.37  33.77  F5  2020-07-23 17:28:59.875000064    2.0   \n",
            "1499996  3.386070  88.37  33.77  F5  2020-07-23 17:28:59.906249984    2.0   \n",
            "1499997  3.386070  88.37  33.77  F5  2020-07-23 17:28:59.937499904    2.0   \n",
            "1499998  3.386070  88.37  33.77  F5  2020-07-23 17:28:59.968750080    2.0   \n",
            "1499999  3.374543  88.33  33.75  F5  2020-07-23 17:29:00.000000000    2.0   \n",
            "\n",
            "               ACC  \n",
            "0         3.666667  \n",
            "1         1.000000  \n",
            "2         0.333333  \n",
            "3        -0.333333  \n",
            "4        -2.666667  \n",
            "...            ...  \n",
            "1499995 -16.000000  \n",
            "1499996 -10.333333  \n",
            "1499997 -12.000000  \n",
            "1499998  -9.333333  \n",
            "1499999  -5.666667  \n",
            "\n",
            "[1500000 rows x 7 columns]\n"
          ]
        }
      ]
    },
    {
      "cell_type": "code",
      "source": [
        "import pandas as pd\n",
        "from sklearn.model_selection import train_test_split\n",
        "from sklearn.ensemble import RandomForestClassifier\n",
        "from sklearn.metrics import classification_report\n",
        "from sklearn.decomposition import PCA\n",
        "from imblearn.over_sampling import SMOTE\n",
        "from sklearn.feature_selection import SelectKBest, f_classif\n",
        "import numpy as np\n",
        "\n",
        "\n",
        "\n",
        "# List of participant IDs\n",
        "participant_ids = df_cleaned_ACC['id'].unique()\n",
        "\n",
        "# Initialize lists to store classification metrics\n",
        "precision_list = []\n",
        "recall_list = []\n",
        "f1_list = []\n",
        "\n",
        "# Iterate through each participant ID\n",
        "for participant_id in participant_ids:\n",
        "    # Split the dataset into training and testing sets based on the current participant ID\n",
        "    train_data = df_cleaned_ACC[df_cleaned_ACC['id'] != participant_id]\n",
        "    test_data = df_cleaned_ACC[df_cleaned_ACC['id'] == participant_id]\n",
        "\n",
        "    # Separate features and target variable\n",
        "    X_train = train_data[['EDA', 'HR', 'TEMP', 'ACC']]\n",
        "    y_train = train_data['label']\n",
        "    X_test = test_data[['EDA', 'HR', 'TEMP', 'ACC']]\n",
        "    y_test = test_data['label']\n",
        "\n",
        "    # Perform SMOTE for over-sampling the minority class\n",
        "    smote = SMOTE()\n",
        "    X_train_resampled, y_train_resampled = smote.fit_resample(X_train, y_train)\n",
        "\n",
        "    # Perform feature selection using SelectKBest\n",
        "    selector = SelectKBest(score_func=f_classif, k=3)\n",
        "    X_train_selected = selector.fit_transform(X_train_resampled, y_train_resampled)\n",
        "    X_test_selected = selector.transform(X_test)\n",
        "\n",
        "    # Perform PCA\n",
        "    pca = PCA(n_components=2)\n",
        "    X_train_pca = pca.fit_transform(X_train_selected)\n",
        "    X_test_pca = pca.transform(X_test_selected)\n",
        "\n",
        "    # Initialize and train a Random Forest classifier\n",
        "    clf = RandomForestClassifier()\n",
        "    clf.fit(X_train_pca, y_train_resampled)\n",
        "\n",
        "    # Make predictions on the test set\n",
        "    y_pred = clf.predict(X_test_pca)\n",
        "\n",
        "    # Evaluate the model and append classification metrics to the lists\n",
        "    report = classification_report(y_test, y_pred, output_dict=True)\n",
        "    precision_list.append(report['weighted avg']['precision'])\n",
        "    recall_list.append(report['weighted avg']['recall'])\n",
        "    f1_list.append(report['weighted avg']['f1-score'])\n",
        "\n",
        "    # Print classification report for the current iteration\n",
        "    print(f\"Classification Report for Participant ID {participant_id}:\")\n",
        "    print(classification_report(y_test, y_pred))\n",
        "\n",
        "# Calculate the average classification metrics across all iterations\n",
        "avg_precision = np.mean(precision_list)\n",
        "avg_recall = np.mean(recall_list)\n",
        "avg_f1 = np.mean(f1_list)\n",
        "\n",
        "print(\"\\nAverage Classification Metrics across all Participants:\")\n",
        "print(f\"Average Precision: {avg_precision}\")\n",
        "print(f\"Average Recall: {avg_recall}\")\n",
        "print(f\"Average F1-score: {avg_f1}\")\n"
      ],
      "metadata": {
        "colab": {
          "base_uri": "https://localhost:8080/"
        },
        "id": "IiTB55takRXW",
        "outputId": "516c6a74-9974-4265-f1e8-4c1013f12161"
      },
      "execution_count": null,
      "outputs": [
        {
          "output_type": "stream",
          "name": "stderr",
          "text": [
            "/usr/local/lib/python3.10/dist-packages/sklearn/metrics/_classification.py:1344: UndefinedMetricWarning: Recall and F-score are ill-defined and being set to 0.0 in labels with no true samples. Use `zero_division` parameter to control this behavior.\n",
            "  _warn_prf(average, modifier, msg_start, len(result))\n",
            "/usr/local/lib/python3.10/dist-packages/sklearn/metrics/_classification.py:1344: UndefinedMetricWarning: Recall and F-score are ill-defined and being set to 0.0 in labels with no true samples. Use `zero_division` parameter to control this behavior.\n",
            "  _warn_prf(average, modifier, msg_start, len(result))\n",
            "/usr/local/lib/python3.10/dist-packages/sklearn/metrics/_classification.py:1344: UndefinedMetricWarning: Recall and F-score are ill-defined and being set to 0.0 in labels with no true samples. Use `zero_division` parameter to control this behavior.\n",
            "  _warn_prf(average, modifier, msg_start, len(result))\n",
            "/usr/local/lib/python3.10/dist-packages/sklearn/metrics/_classification.py:1344: UndefinedMetricWarning: Recall and F-score are ill-defined and being set to 0.0 in labels with no true samples. Use `zero_division` parameter to control this behavior.\n",
            "  _warn_prf(average, modifier, msg_start, len(result))\n",
            "/usr/local/lib/python3.10/dist-packages/sklearn/metrics/_classification.py:1344: UndefinedMetricWarning: Recall and F-score are ill-defined and being set to 0.0 in labels with no true samples. Use `zero_division` parameter to control this behavior.\n",
            "  _warn_prf(average, modifier, msg_start, len(result))\n",
            "/usr/local/lib/python3.10/dist-packages/sklearn/metrics/_classification.py:1344: UndefinedMetricWarning: Recall and F-score are ill-defined and being set to 0.0 in labels with no true samples. Use `zero_division` parameter to control this behavior.\n",
            "  _warn_prf(average, modifier, msg_start, len(result))\n"
          ]
        },
        {
          "output_type": "stream",
          "name": "stdout",
          "text": [
            "Classification Report for Participant ID 15:\n",
            "              precision    recall  f1-score   support\n",
            "\n",
            "         0.0       0.00      0.00      0.00         0\n",
            "         1.0       0.00      0.00      0.00         0\n",
            "         2.0       1.00      0.82      0.90     46944\n",
            "\n",
            "    accuracy                           0.82     46944\n",
            "   macro avg       0.33      0.27      0.30     46944\n",
            "weighted avg       1.00      0.82      0.90     46944\n",
            "\n"
          ]
        },
        {
          "output_type": "stream",
          "name": "stderr",
          "text": [
            "/usr/local/lib/python3.10/dist-packages/sklearn/metrics/_classification.py:1344: UndefinedMetricWarning: Precision and F-score are ill-defined and being set to 0.0 in labels with no predicted samples. Use `zero_division` parameter to control this behavior.\n",
            "  _warn_prf(average, modifier, msg_start, len(result))\n",
            "/usr/local/lib/python3.10/dist-packages/sklearn/metrics/_classification.py:1344: UndefinedMetricWarning: Precision and F-score are ill-defined and being set to 0.0 in labels with no predicted samples. Use `zero_division` parameter to control this behavior.\n",
            "  _warn_prf(average, modifier, msg_start, len(result))\n",
            "/usr/local/lib/python3.10/dist-packages/sklearn/metrics/_classification.py:1344: UndefinedMetricWarning: Precision and F-score are ill-defined and being set to 0.0 in labels with no predicted samples. Use `zero_division` parameter to control this behavior.\n",
            "  _warn_prf(average, modifier, msg_start, len(result))\n"
          ]
        },
        {
          "output_type": "stream",
          "name": "stdout",
          "text": [
            "Classification Report for Participant ID 5C:\n"
          ]
        },
        {
          "output_type": "stream",
          "name": "stderr",
          "text": [
            "/usr/local/lib/python3.10/dist-packages/sklearn/metrics/_classification.py:1344: UndefinedMetricWarning: Precision and F-score are ill-defined and being set to 0.0 in labels with no predicted samples. Use `zero_division` parameter to control this behavior.\n",
            "  _warn_prf(average, modifier, msg_start, len(result))\n",
            "/usr/local/lib/python3.10/dist-packages/sklearn/metrics/_classification.py:1344: UndefinedMetricWarning: Precision and F-score are ill-defined and being set to 0.0 in labels with no predicted samples. Use `zero_division` parameter to control this behavior.\n",
            "  _warn_prf(average, modifier, msg_start, len(result))\n",
            "/usr/local/lib/python3.10/dist-packages/sklearn/metrics/_classification.py:1344: UndefinedMetricWarning: Precision and F-score are ill-defined and being set to 0.0 in labels with no predicted samples. Use `zero_division` parameter to control this behavior.\n",
            "  _warn_prf(average, modifier, msg_start, len(result))\n"
          ]
        },
        {
          "output_type": "stream",
          "name": "stdout",
          "text": [
            "              precision    recall  f1-score   support\n",
            "\n",
            "         0.0       0.44      0.08      0.14    306811\n",
            "         1.0       0.00      0.00      0.00     64679\n",
            "         2.0       0.13      0.65      0.22     81566\n",
            "\n",
            "    accuracy                           0.17    453056\n",
            "   macro avg       0.19      0.24      0.12    453056\n",
            "weighted avg       0.32      0.17      0.13    453056\n",
            "\n"
          ]
        },
        {
          "output_type": "stream",
          "name": "stderr",
          "text": [
            "/usr/local/lib/python3.10/dist-packages/sklearn/metrics/_classification.py:1344: UndefinedMetricWarning: Recall and F-score are ill-defined and being set to 0.0 in labels with no true samples. Use `zero_division` parameter to control this behavior.\n",
            "  _warn_prf(average, modifier, msg_start, len(result))\n",
            "/usr/local/lib/python3.10/dist-packages/sklearn/metrics/_classification.py:1344: UndefinedMetricWarning: Recall and F-score are ill-defined and being set to 0.0 in labels with no true samples. Use `zero_division` parameter to control this behavior.\n",
            "  _warn_prf(average, modifier, msg_start, len(result))\n",
            "/usr/local/lib/python3.10/dist-packages/sklearn/metrics/_classification.py:1344: UndefinedMetricWarning: Recall and F-score are ill-defined and being set to 0.0 in labels with no true samples. Use `zero_division` parameter to control this behavior.\n",
            "  _warn_prf(average, modifier, msg_start, len(result))\n",
            "/usr/local/lib/python3.10/dist-packages/sklearn/metrics/_classification.py:1344: UndefinedMetricWarning: Recall and F-score are ill-defined and being set to 0.0 in labels with no true samples. Use `zero_division` parameter to control this behavior.\n",
            "  _warn_prf(average, modifier, msg_start, len(result))\n",
            "/usr/local/lib/python3.10/dist-packages/sklearn/metrics/_classification.py:1344: UndefinedMetricWarning: Recall and F-score are ill-defined and being set to 0.0 in labels with no true samples. Use `zero_division` parameter to control this behavior.\n",
            "  _warn_prf(average, modifier, msg_start, len(result))\n",
            "/usr/local/lib/python3.10/dist-packages/sklearn/metrics/_classification.py:1344: UndefinedMetricWarning: Recall and F-score are ill-defined and being set to 0.0 in labels with no true samples. Use `zero_division` parameter to control this behavior.\n",
            "  _warn_prf(average, modifier, msg_start, len(result))\n"
          ]
        },
        {
          "output_type": "stream",
          "name": "stdout",
          "text": [
            "Classification Report for Participant ID 8B:\n",
            "              precision    recall  f1-score   support\n",
            "\n",
            "         0.0       0.00      0.00      0.00         0\n",
            "         2.0       1.00      0.98      0.99      1305\n",
            "\n",
            "    accuracy                           0.98      1305\n",
            "   macro avg       0.50      0.49      0.49      1305\n",
            "weighted avg       1.00      0.98      0.99      1305\n",
            "\n"
          ]
        },
        {
          "output_type": "stream",
          "name": "stderr",
          "text": [
            "/usr/local/lib/python3.10/dist-packages/sklearn/metrics/_classification.py:1344: UndefinedMetricWarning: Recall and F-score are ill-defined and being set to 0.0 in labels with no true samples. Use `zero_division` parameter to control this behavior.\n",
            "  _warn_prf(average, modifier, msg_start, len(result))\n",
            "/usr/local/lib/python3.10/dist-packages/sklearn/metrics/_classification.py:1344: UndefinedMetricWarning: Recall and F-score are ill-defined and being set to 0.0 in labels with no true samples. Use `zero_division` parameter to control this behavior.\n",
            "  _warn_prf(average, modifier, msg_start, len(result))\n",
            "/usr/local/lib/python3.10/dist-packages/sklearn/metrics/_classification.py:1344: UndefinedMetricWarning: Recall and F-score are ill-defined and being set to 0.0 in labels with no true samples. Use `zero_division` parameter to control this behavior.\n",
            "  _warn_prf(average, modifier, msg_start, len(result))\n",
            "/usr/local/lib/python3.10/dist-packages/sklearn/metrics/_classification.py:1344: UndefinedMetricWarning: Recall and F-score are ill-defined and being set to 0.0 in labels with no true samples. Use `zero_division` parameter to control this behavior.\n",
            "  _warn_prf(average, modifier, msg_start, len(result))\n",
            "/usr/local/lib/python3.10/dist-packages/sklearn/metrics/_classification.py:1344: UndefinedMetricWarning: Recall and F-score are ill-defined and being set to 0.0 in labels with no true samples. Use `zero_division` parameter to control this behavior.\n",
            "  _warn_prf(average, modifier, msg_start, len(result))\n",
            "/usr/local/lib/python3.10/dist-packages/sklearn/metrics/_classification.py:1344: UndefinedMetricWarning: Recall and F-score are ill-defined and being set to 0.0 in labels with no true samples. Use `zero_division` parameter to control this behavior.\n",
            "  _warn_prf(average, modifier, msg_start, len(result))\n"
          ]
        },
        {
          "output_type": "stream",
          "name": "stdout",
          "text": [
            "Classification Report for Participant ID 94:\n",
            "              precision    recall  f1-score   support\n",
            "\n",
            "         0.0       0.57      0.01      0.02     16991\n",
            "         1.0       0.00      0.00      0.00         0\n",
            "         2.0       0.72      0.96      0.82     44055\n",
            "\n",
            "    accuracy                           0.70     61046\n",
            "   macro avg       0.43      0.32      0.28     61046\n",
            "weighted avg       0.67      0.70      0.60     61046\n",
            "\n"
          ]
        },
        {
          "output_type": "stream",
          "name": "stderr",
          "text": [
            "/usr/local/lib/python3.10/dist-packages/sklearn/metrics/_classification.py:1344: UndefinedMetricWarning: Recall and F-score are ill-defined and being set to 0.0 in labels with no true samples. Use `zero_division` parameter to control this behavior.\n",
            "  _warn_prf(average, modifier, msg_start, len(result))\n",
            "/usr/local/lib/python3.10/dist-packages/sklearn/metrics/_classification.py:1344: UndefinedMetricWarning: Recall and F-score are ill-defined and being set to 0.0 in labels with no true samples. Use `zero_division` parameter to control this behavior.\n",
            "  _warn_prf(average, modifier, msg_start, len(result))\n",
            "/usr/local/lib/python3.10/dist-packages/sklearn/metrics/_classification.py:1344: UndefinedMetricWarning: Recall and F-score are ill-defined and being set to 0.0 in labels with no true samples. Use `zero_division` parameter to control this behavior.\n",
            "  _warn_prf(average, modifier, msg_start, len(result))\n"
          ]
        },
        {
          "output_type": "stream",
          "name": "stdout",
          "text": [
            "Classification Report for Participant ID BG:\n"
          ]
        },
        {
          "output_type": "stream",
          "name": "stderr",
          "text": [
            "/usr/local/lib/python3.10/dist-packages/sklearn/metrics/_classification.py:1344: UndefinedMetricWarning: Recall and F-score are ill-defined and being set to 0.0 in labels with no true samples. Use `zero_division` parameter to control this behavior.\n",
            "  _warn_prf(average, modifier, msg_start, len(result))\n",
            "/usr/local/lib/python3.10/dist-packages/sklearn/metrics/_classification.py:1344: UndefinedMetricWarning: Recall and F-score are ill-defined and being set to 0.0 in labels with no true samples. Use `zero_division` parameter to control this behavior.\n",
            "  _warn_prf(average, modifier, msg_start, len(result))\n",
            "/usr/local/lib/python3.10/dist-packages/sklearn/metrics/_classification.py:1344: UndefinedMetricWarning: Recall and F-score are ill-defined and being set to 0.0 in labels with no true samples. Use `zero_division` parameter to control this behavior.\n",
            "  _warn_prf(average, modifier, msg_start, len(result))\n"
          ]
        },
        {
          "output_type": "stream",
          "name": "stdout",
          "text": [
            "              precision    recall  f1-score   support\n",
            "\n",
            "         0.0       0.07      0.14      0.09     21085\n",
            "         1.0       0.00      0.00      0.00         0\n",
            "         2.0       0.97      0.87      0.92    416564\n",
            "\n",
            "    accuracy                           0.83    437649\n",
            "   macro avg       0.34      0.34      0.34    437649\n",
            "weighted avg       0.92      0.83      0.88    437649\n",
            "\n"
          ]
        },
        {
          "output_type": "stream",
          "name": "stderr",
          "text": [
            "/usr/local/lib/python3.10/dist-packages/sklearn/metrics/_classification.py:1344: UndefinedMetricWarning: Recall and F-score are ill-defined and being set to 0.0 in labels with no true samples. Use `zero_division` parameter to control this behavior.\n",
            "  _warn_prf(average, modifier, msg_start, len(result))\n",
            "/usr/local/lib/python3.10/dist-packages/sklearn/metrics/_classification.py:1344: UndefinedMetricWarning: Recall and F-score are ill-defined and being set to 0.0 in labels with no true samples. Use `zero_division` parameter to control this behavior.\n",
            "  _warn_prf(average, modifier, msg_start, len(result))\n",
            "/usr/local/lib/python3.10/dist-packages/sklearn/metrics/_classification.py:1344: UndefinedMetricWarning: Recall and F-score are ill-defined and being set to 0.0 in labels with no true samples. Use `zero_division` parameter to control this behavior.\n",
            "  _warn_prf(average, modifier, msg_start, len(result))\n"
          ]
        },
        {
          "output_type": "stream",
          "name": "stdout",
          "text": [
            "Classification Report for Participant ID F5:\n"
          ]
        },
        {
          "output_type": "stream",
          "name": "stderr",
          "text": [
            "/usr/local/lib/python3.10/dist-packages/sklearn/metrics/_classification.py:1344: UndefinedMetricWarning: Recall and F-score are ill-defined and being set to 0.0 in labels with no true samples. Use `zero_division` parameter to control this behavior.\n",
            "  _warn_prf(average, modifier, msg_start, len(result))\n"
          ]
        },
        {
          "output_type": "stream",
          "name": "stdout",
          "text": [
            "              precision    recall  f1-score   support\n",
            "\n",
            "         0.0       0.08      0.24      0.12     28170\n",
            "         1.0       0.00      0.00      0.00         0\n",
            "         2.0       0.94      0.74      0.83    471830\n",
            "\n",
            "    accuracy                           0.71    500000\n",
            "   macro avg       0.34      0.33      0.32    500000\n",
            "weighted avg       0.89      0.71      0.79    500000\n",
            "\n",
            "\n",
            "Average Classification Metrics across all Participants:\n",
            "Average Precision: 0.8026835457904773\n",
            "Average Recall: 0.7022352844942903\n",
            "Average F1-score: 0.7143803649908959\n"
          ]
        },
        {
          "output_type": "stream",
          "name": "stderr",
          "text": [
            "/usr/local/lib/python3.10/dist-packages/sklearn/metrics/_classification.py:1344: UndefinedMetricWarning: Recall and F-score are ill-defined and being set to 0.0 in labels with no true samples. Use `zero_division` parameter to control this behavior.\n",
            "  _warn_prf(average, modifier, msg_start, len(result))\n",
            "/usr/local/lib/python3.10/dist-packages/sklearn/metrics/_classification.py:1344: UndefinedMetricWarning: Recall and F-score are ill-defined and being set to 0.0 in labels with no true samples. Use `zero_division` parameter to control this behavior.\n",
            "  _warn_prf(average, modifier, msg_start, len(result))\n"
          ]
        }
      ]
    },
    {
      "cell_type": "code",
      "source": [],
      "metadata": {
        "id": "2Xhgisv48t3F"
      },
      "execution_count": null,
      "outputs": []
    },
    {
      "cell_type": "code",
      "source": [
        "import matplotlib.pyplot as plt\n",
        "\n",
        "# Average classification metrics\n",
        "metrics = ['Precision', 'Recall', 'F1-score']\n",
        "avg_values = [avg_precision, avg_recall, avg_f1]\n",
        "\n",
        "# Create bar plot\n",
        "plt.figure(figsize=(8, 5))\n",
        "plt.bar(metrics, avg_values, color=['blue', 'green', 'red'])\n",
        "plt.xlabel('Classification Metric')\n",
        "plt.ylabel('Average Value')\n",
        "plt.title('Average Classification Metrics across all Participants')\n",
        "plt.show()\n"
      ],
      "metadata": {
        "colab": {
          "base_uri": "https://localhost:8080/",
          "height": 487
        },
        "id": "hil-_MzS2AdV",
        "outputId": "16a7c5cc-029f-49e1-8886-58dc1d7b031f"
      },
      "execution_count": null,
      "outputs": [
        {
          "output_type": "display_data",
          "data": {
            "text/plain": [
              "<Figure size 800x500 with 1 Axes>"
            ],
            "image/png": "[encoded data removed]"
          },
          "metadata": {}
        }
      ]
    },
    {
      "cell_type": "code",
      "source": [
        "# Classification metrics for all participants\n",
        "all_precision = precision_list\n",
        "all_recall = recall_list\n",
        "all_f1 = f1_list\n",
        "\n",
        "# Create box plot\n",
        "plt.figure(figsize=(10, 6))\n",
        "plt.boxplot([all_precision, all_recall, all_f1], labels=['Precision', 'Recall', 'F1-score'])\n",
        "plt.ylabel('Value')\n",
        "plt.title('Distribution of Classification Metrics across all Participants')\n",
        "plt.show()\n"
      ],
      "metadata": {
        "colab": {
          "base_uri": "https://localhost:8080/",
          "height": 545
        },
        "id": "_NaL67RJ2F66",
        "outputId": "4c3fdfa2-a9f7-476e-8bf2-6b83e3f3a4b5"
      },
      "execution_count": null,
      "outputs": [
        {
          "output_type": "display_data",
          "data": {
            "text/plain": [
              "<Figure size 1000x600 with 1 Axes>"
            ],
            "image/png": "[encoded data removed]"
          },
          "metadata": {}
        }
      ]
    },
    {
      "cell_type": "markdown",
      "source": [
        "create a small dataset where i have all participants data"
      ],
      "metadata": {
        "id": "FU-EM8oJ8xNf"
      }
    },
    {
      "cell_type": "code",
      "source": [
        "df_cleaned_ACC"
      ],
      "metadata": {
        "colab": {
          "base_uri": "https://localhost:8080/",
          "height": 423
        },
        "id": "dOoot53eRZhM",
        "outputId": "dc4f9017-f3a1-4d87-eaad-3120bfc7f95d"
      },
      "execution_count": null,
      "outputs": [
        {
          "output_type": "execute_result",
          "data": {
            "text/plain": [
              "               EDA     HR   TEMP  id                       datetime  label  \\\n",
              "262144    9.957165  96.60  32.37  15  2020-07-24 13:22:31.781250048    2.0   \n",
              "262145    9.957165  96.60  32.37  15  2020-07-24 13:22:31.812499968    2.0   \n",
              "262146    9.957165  96.60  32.37  15  2020-07-24 13:22:31.843749888    2.0   \n",
              "262147    9.957165  96.60  32.37  15  2020-07-24 13:22:31.875000064    2.0   \n",
              "262148    9.957165  96.60  32.37  15  2020-07-24 13:22:31.906249984    2.0   \n",
              "...            ...    ...    ...  ..                            ...    ...   \n",
              "11509046  3.386070  88.37  33.77  F5  2020-07-23 17:28:59.875000064    2.0   \n",
              "11509047  3.386070  88.37  33.77  F5  2020-07-23 17:28:59.906249984    2.0   \n",
              "11509048  3.386070  88.37  33.77  F5  2020-07-23 17:28:59.937499904    2.0   \n",
              "11509049  3.386070  88.37  33.77  F5  2020-07-23 17:28:59.968750080    2.0   \n",
              "11509050  3.374543  88.33  33.75  F5  2020-07-23 17:29:00.000000000    2.0   \n",
              "\n",
              "                ACC  \n",
              "262144     3.666667  \n",
              "262145     1.000000  \n",
              "262146     0.333333  \n",
              "262147    -0.333333  \n",
              "262148    -2.666667  \n",
              "...             ...  \n",
              "11509046 -16.000000  \n",
              "11509047 -10.333333  \n",
              "11509048 -12.000000  \n",
              "11509049  -9.333333  \n",
              "11509050  -5.666667  \n",
              "\n",
              "[8965481 rows x 7 columns]"
            ],
            "text/html": [
              "\n",
              "  <div id=\"df-528182af-13e5-4f66-9d90-7de10c2e37dd\" class=\"colab-df-container\">\n",
              "    <div>\n",
              "<style scoped>\n",
              "    .dataframe tbody tr th:only-of-type {\n",
              "        vertical-align: middle;\n",
              "    }\n",
              "\n",
              "    .dataframe tbody tr th {\n",
              "        vertical-align: top;\n",
              "    }\n",
              "\n",
              "    .dataframe thead th {\n",
              "        text-align: right;\n",
              "    }\n",
              "</style>\n",
              "<table border=\"1\" class=\"dataframe\">\n",
              "  <thead>\n",
              "    <tr style=\"text-align: right;\">\n",
              "      <th></th>\n",
              "      <th>EDA</th>\n",
              "      <th>HR</th>\n",
              "      <th>TEMP</th>\n",
              "      <th>id</th>\n",
              "      <th>datetime</th>\n",
              "      <th>label</th>\n",
              "      <th>ACC</th>\n",
              "    </tr>\n",
              "  </thead>\n",
              "  <tbody>\n",
              "    <tr>\n",
              "      <th>262144</th>\n",
              "      <td>9.957165</td>\n",
              "      <td>96.60</td>\n",
              "      <td>32.37</td>\n",
              "      <td>15</td>\n",
              "      <td>2020-07-24 13:22:31.781250048</td>\n",
              "      <td>2.0</td>\n",
              "      <td>3.666667</td>\n",
              "    </tr>\n",
              "    <tr>\n",
              "      <th>262145</th>\n",
              "      <td>9.957165</td>\n",
              "      <td>96.60</td>\n",
              "      <td>32.37</td>\n",
              "      <td>15</td>\n",
              "      <td>2020-07-24 13:22:31.812499968</td>\n",
              "      <td>2.0</td>\n",
              "      <td>1.000000</td>\n",
              "    </tr>\n",
              "    <tr>\n",
              "      <th>262146</th>\n",
              "      <td>9.957165</td>\n",
              "      <td>96.60</td>\n",
              "      <td>32.37</td>\n",
              "      <td>15</td>\n",
              "      <td>2020-07-24 13:22:31.843749888</td>\n",
              "      <td>2.0</td>\n",
              "      <td>0.333333</td>\n",
              "    </tr>\n",
              "    <tr>\n",
              "      <th>262147</th>\n",
              "      <td>9.957165</td>\n",
              "      <td>96.60</td>\n",
              "      <td>32.37</td>\n",
              "      <td>15</td>\n",
              "      <td>2020-07-24 13:22:31.875000064</td>\n",
              "      <td>2.0</td>\n",
              "      <td>-0.333333</td>\n",
              "    </tr>\n",
              "    <tr>\n",
              "      <th>262148</th>\n",
              "      <td>9.957165</td>\n",
              "      <td>96.60</td>\n",
              "      <td>32.37</td>\n",
              "      <td>15</td>\n",
              "      <td>2020-07-24 13:22:31.906249984</td>\n",
              "      <td>2.0</td>\n",
              "      <td>-2.666667</td>\n",
              "    </tr>\n",
              "    <tr>\n",
              "      <th>...</th>\n",
              "      <td>...</td>\n",
              "      <td>...</td>\n",
              "      <td>...</td>\n",
              "      <td>...</td>\n",
              "      <td>...</td>\n",
              "      <td>...</td>\n",
              "      <td>...</td>\n",
              "    </tr>\n",
              "    <tr>\n",
              "      <th>11509046</th>\n",
              "      <td>3.386070</td>\n",
              "      <td>88.37</td>\n",
              "      <td>33.77</td>\n",
              "      <td>F5</td>\n",
              "      <td>2020-07-23 17:28:59.875000064</td>\n",
              "      <td>2.0</td>\n",
              "      <td>-16.000000</td>\n",
              "    </tr>\n",
              "    <tr>\n",
              "      <th>11509047</th>\n",
              "      <td>3.386070</td>\n",
              "      <td>88.37</td>\n",
              "      <td>33.77</td>\n",
              "      <td>F5</td>\n",
              "      <td>2020-07-23 17:28:59.906249984</td>\n",
              "      <td>2.0</td>\n",
              "      <td>-10.333333</td>\n",
              "    </tr>\n",
              "    <tr>\n",
              "      <th>11509048</th>\n",
              "      <td>3.386070</td>\n",
              "      <td>88.37</td>\n",
              "      <td>33.77</td>\n",
              "      <td>F5</td>\n",
              "      <td>2020-07-23 17:28:59.937499904</td>\n",
              "      <td>2.0</td>\n",
              "      <td>-12.000000</td>\n",
              "    </tr>\n",
              "    <tr>\n",
              "      <th>11509049</th>\n",
              "      <td>3.386070</td>\n",
              "      <td>88.37</td>\n",
              "      <td>33.77</td>\n",
              "      <td>F5</td>\n",
              "      <td>2020-07-23 17:28:59.968750080</td>\n",
              "      <td>2.0</td>\n",
              "      <td>-9.333333</td>\n",
              "    </tr>\n",
              "    <tr>\n",
              "      <th>11509050</th>\n",
              "      <td>3.374543</td>\n",
              "      <td>88.33</td>\n",
              "      <td>33.75</td>\n",
              "      <td>F5</td>\n",
              "      <td>2020-07-23 17:29:00.000000000</td>\n",
              "      <td>2.0</td>\n",
              "      <td>-5.666667</td>\n",
              "    </tr>\n",
              "  </tbody>\n",
              "</table>\n",
              "<p>8965481 rows × 7 columns</p>\n",
              "</div>\n",
              "    <div class=\"colab-df-buttons\">\n",
              "\n",
              "  <div class=\"colab-df-container\">\n",
              "    <button class=\"colab-df-convert\" onclick=\"convertToInteractive('df-528182af-13e5-4f66-9d90-7de10c2e37dd')\"\n",
              "            title=\"Convert this dataframe to an interactive table.\"\n",
              "            style=\"display:none;\">\n",
              "\n",
              "  <svg xmlns=\"http://www.w3.org/2000/svg\" height=\"24px\" viewBox=\"0 -960 960 960\">\n",
              "    <path d=\"M120-120v-720h720v720H120Zm60-500h600v-160H180v160Zm220 220h160v-160H400v160Zm0 220h160v-160H400v160ZM180-400h160v-160H180v160Zm440 0h160v-160H620v160ZM180-180h160v-160H180v160Zm440 0h160v-160H620v160Z\"/>\n",
              "  </svg>\n",
              "    </button>\n",
              "\n",
              "  <style>\n",
              "    .colab-df-container {\n",
              "      display:flex;\n",
              "      gap: 12px;\n",
              "    }\n",
              "\n",
              "    .colab-df-convert {\n",
              "      background-color: #E8F0FE;\n",
              "      border: none;\n",
              "      border-radius: 50%;\n",
              "      cursor: pointer;\n",
              "      display: none;\n",
              "      fill: #1967D2;\n",
              "      height: 32px;\n",
              "      padding: 0 0 0 0;\n",
              "      width: 32px;\n",
              "    }\n",
              "\n",
              "    .colab-df-convert:hover {\n",
              "      background-color: #E2EBFA;\n",
              "      box-shadow: 0px 1px 2px rgba(60, 64, 67, 0.3), 0px 1px 3px 1px rgba(60, 64, 67, 0.15);\n",
              "      fill: #174EA6;\n",
              "    }\n",
              "\n",
              "    .colab-df-buttons div {\n",
              "      margin-bottom: 4px;\n",
              "    }\n",
              "\n",
              "    [theme=dark] .colab-df-convert {\n",
              "      background-color: #3B4455;\n",
              "      fill: #D2E3FC;\n",
              "    }\n",
              "\n",
              "    [theme=dark] .colab-df-convert:hover {\n",
              "      background-color: #434B5C;\n",
              "      box-shadow: 0px 1px 3px 1px rgba(0, 0, 0, 0.15);\n",
              "      filter: drop-shadow(0px 1px 2px rgba(0, 0, 0, 0.3));\n",
              "      fill: #FFFFFF;\n",
              "    }\n",
              "  </style>\n",
              "\n",
              "    <script>\n",
              "      const buttonEl =\n",
              "        document.querySelector('#df-528182af-13e5-4f66-9d90-7de10c2e37dd button.colab-df-convert');\n",
              "      buttonEl.style.display =\n",
              "        google.colab.kernel.accessAllowed ? 'block' : 'none';\n",
              "\n",
              "      async function convertToInteractive(key) {\n",
              "        const element = document.querySelector('#df-528182af-13e5-4f66-9d90-7de10c2e37dd');\n",
              "        const dataTable =\n",
              "          await google.colab.kernel.invokeFunction('convertToInteractive',\n",
              "                                                    [key], {});\n",
              "        if (!dataTable) return;\n",
              "\n",
              "        const docLinkHtml = 'Like what you see? Visit the ' +\n",
              "          '<a target=\"_blank\" href=https://colab.research.google.com/notebooks/data_table.ipynb>data table notebook</a>'\n",
              "          + ' to learn more about interactive tables.';\n",
              "        element.innerHTML = '';\n",
              "        dataTable['output_type'] = 'display_data';\n",
              "        await google.colab.output.renderOutput(dataTable, element);\n",
              "        const docLink = document.createElement('div');\n",
              "        docLink.innerHTML = docLinkHtml;\n",
              "        element.appendChild(docLink);\n",
              "      }\n",
              "    </script>\n",
              "  </div>\n",
              "\n",
              "\n",
              "<div id=\"df-613c7398-6326-49e2-bfe1-b93f40b014c5\">\n",
              "  <button class=\"colab-df-quickchart\" onclick=\"quickchart('df-613c7398-6326-49e2-bfe1-b93f40b014c5')\"\n",
              "            title=\"Suggest charts\"\n",
              "            style=\"display:none;\">\n",
              "\n",
              "<svg xmlns=\"http://www.w3.org/2000/svg\" height=\"24px\"viewBox=\"0 0 24 24\"\n",
              "     width=\"24px\">\n",
              "    <g>\n",
              "        <path d=\"M19 3H5c-1.1 0-2 .9-2 2v14c0 1.1.9 2 2 2h14c1.1 0 2-.9 2-2V5c0-1.1-.9-2-2-2zM9 17H7v-7h2v7zm4 0h-2V7h2v10zm4 0h-2v-4h2v4z\"/>\n",
              "    </g>\n",
              "</svg>\n",
              "  </button>\n",
              "\n",
              "<style>\n",
              "  .colab-df-quickchart {\n",
              "      --bg-color: #E8F0FE;\n",
              "      --fill-color: #1967D2;\n",
              "      --hover-bg-color: #E2EBFA;\n",
              "      --hover-fill-color: #174EA6;\n",
              "      --disabled-fill-color: #AAA;\n",
              "      --disabled-bg-color: #DDD;\n",
              "  }\n",
              "\n",
              "  [theme=dark] .colab-df-quickchart {\n",
              "      --bg-color: #3B4455;\n",
              "      --fill-color: #D2E3FC;\n",
              "      --hover-bg-color: #434B5C;\n",
              "      --hover-fill-color: #FFFFFF;\n",
              "      --disabled-bg-color: #3B4455;\n",
              "      --disabled-fill-color: #666;\n",
              "  }\n",
              "\n",
              "  .colab-df-quickchart {\n",
              "    background-color: var(--bg-color);\n",
              "    border: none;\n",
              "    border-radius: 50%;\n",
              "    cursor: pointer;\n",
              "    display: none;\n",
              "    fill: var(--fill-color);\n",
              "    height: 32px;\n",
              "    padding: 0;\n",
              "    width: 32px;\n",
              "  }\n",
              "\n",
              "  .colab-df-quickchart:hover {\n",
              "    background-color: var(--hover-bg-color);\n",
              "    box-shadow: 0 1px 2px rgba(60, 64, 67, 0.3), 0 1px 3px 1px rgba(60, 64, 67, 0.15);\n",
              "    fill: var(--button-hover-fill-color);\n",
              "  }\n",
              "\n",
              "  .colab-df-quickchart-complete:disabled,\n",
              "  .colab-df-quickchart-complete:disabled:hover {\n",
              "    background-color: var(--disabled-bg-color);\n",
              "    fill: var(--disabled-fill-color);\n",
              "    box-shadow: none;\n",
              "  }\n",
              "\n",
              "  .colab-df-spinner {\n",
              "    border: 2px solid var(--fill-color);\n",
              "    border-color: transparent;\n",
              "    border-bottom-color: var(--fill-color);\n",
              "    animation:\n",
              "      spin 1s steps(1) infinite;\n",
              "  }\n",
              "\n",
              "  @keyframes spin {\n",
              "    0% {\n",
              "      border-color: transparent;\n",
              "      border-bottom-color: var(--fill-color);\n",
              "      border-left-color: var(--fill-color);\n",
              "    }\n",
              "    20% {\n",
              "      border-color: transparent;\n",
              "      border-left-color: var(--fill-color);\n",
              "      border-top-color: var(--fill-color);\n",
              "    }\n",
              "    30% {\n",
              "      border-color: transparent;\n",
              "      border-left-color: var(--fill-color);\n",
              "      border-top-color: var(--fill-color);\n",
              "      border-right-color: var(--fill-color);\n",
              "    }\n",
              "    40% {\n",
              "      border-color: transparent;\n",
              "      border-right-color: var(--fill-color);\n",
              "      border-top-color: var(--fill-color);\n",
              "    }\n",
              "    60% {\n",
              "      border-color: transparent;\n",
              "      border-right-color: var(--fill-color);\n",
              "    }\n",
              "    80% {\n",
              "      border-color: transparent;\n",
              "      border-right-color: var(--fill-color);\n",
              "      border-bottom-color: var(--fill-color);\n",
              "    }\n",
              "    90% {\n",
              "      border-color: transparent;\n",
              "      border-bottom-color: var(--fill-color);\n",
              "    }\n",
              "  }\n",
              "</style>\n",
              "\n",
              "  <script>\n",
              "    async function quickchart(key) {\n",
              "      const quickchartButtonEl =\n",
              "        document.querySelector('#' + key + ' button');\n",
              "      quickchartButtonEl.disabled = true;  // To prevent multiple clicks.\n",
              "      quickchartButtonEl.classList.add('colab-df-spinner');\n",
              "      try {\n",
              "        const charts = await google.colab.kernel.invokeFunction(\n",
              "            'suggestCharts', [key], {});\n",
              "      } catch (error) {\n",
              "        console.error('Error during call to suggestCharts:', error);\n",
              "      }\n",
              "      quickchartButtonEl.classList.remove('colab-df-spinner');\n",
              "      quickchartButtonEl.classList.add('colab-df-quickchart-complete');\n",
              "    }\n",
              "    (() => {\n",
              "      let quickchartButtonEl =\n",
              "        document.querySelector('#df-613c7398-6326-49e2-bfe1-b93f40b014c5 button');\n",
              "      quickchartButtonEl.style.display =\n",
              "        google.colab.kernel.accessAllowed ? 'block' : 'none';\n",
              "    })();\n",
              "  </script>\n",
              "</div>\n",
              "    </div>\n",
              "  </div>\n"
            ],
            "application/vnd.google.colaboratory.intrinsic+json": {
              "type": "dataframe",
              "variable_name": "df_cleaned_ACC"
            }
          },
          "metadata": {},
          "execution_count": 17
        }
      ]
    },
    {
      "cell_type": "code",
      "source": [
        "# Drop the datetime column\n",
        "df_cleaned_ACC.drop(columns=['datetime'], inplace=True)\n",
        "\n",
        "# Display the resulting DataFrame\n",
        "print(df_cleaned_ACC)\n"
      ],
      "metadata": {
        "colab": {
          "base_uri": "https://localhost:8080/"
        },
        "id": "nugHUtuHRt9U",
        "outputId": "6b9d1e97-2e84-4716-9f1f-308af0bb2183"
      },
      "execution_count": null,
      "outputs": [
        {
          "output_type": "stream",
          "name": "stdout",
          "text": [
            "               EDA     HR   TEMP  id  label        ACC\n",
            "262144    9.957165  96.60  32.37  15    2.0   3.666667\n",
            "262145    9.957165  96.60  32.37  15    2.0   1.000000\n",
            "262146    9.957165  96.60  32.37  15    2.0   0.333333\n",
            "262147    9.957165  96.60  32.37  15    2.0  -0.333333\n",
            "262148    9.957165  96.60  32.37  15    2.0  -2.666667\n",
            "...            ...    ...    ...  ..    ...        ...\n",
            "11509046  3.386070  88.37  33.77  F5    2.0 -16.000000\n",
            "11509047  3.386070  88.37  33.77  F5    2.0 -10.333333\n",
            "11509048  3.386070  88.37  33.77  F5    2.0 -12.000000\n",
            "11509049  3.386070  88.37  33.77  F5    2.0  -9.333333\n",
            "11509050  3.374543  88.33  33.75  F5    2.0  -5.666667\n",
            "\n",
            "[8965481 rows x 6 columns]\n"
          ]
        }
      ]
    },
    {
      "cell_type": "code",
      "source": [
        "# Identify unique participants\n",
        "participants = df_cleaned_ACC['id'].unique()\n",
        "\n",
        "# Initialize empty DataFrame\n",
        "participant_data = pd.DataFrame()\n",
        "\n",
        "# Select the first 5000 rows and last 5000 rows for each participant and concatenate them\n",
        "for participant in participants:\n",
        "    participant_subset = df_cleaned_ACC[df_cleaned_ACC['id'] == participant]\n",
        "    participant_first_500 = participant_subset.head(20000)\n",
        "    participant_data = pd.concat([participant_data, participant_first_500])\n",
        "\n",
        "# Reset index\n",
        "participant_data.reset_index(drop=True, inplace=True)\n",
        "\n",
        "# Display the resulting DataFrame\n",
        "print(participant_data)\n"
      ],
      "metadata": {
        "colab": {
          "base_uri": "https://localhost:8080/"
        },
        "id": "jPAcxE8dLTm_",
        "outputId": "7e388b68-3385-4ef3-facc-95762153e7aa"
      },
      "execution_count": null,
      "outputs": [
        {
          "output_type": "stream",
          "name": "stdout",
          "text": [
            "             EDA     HR   TEMP  id  label        ACC\n",
            "0       9.957165  96.60  32.37  15    2.0   3.666667\n",
            "1       9.957165  96.60  32.37  15    2.0   1.000000\n",
            "2       9.957165  96.60  32.37  15    2.0   0.333333\n",
            "3       9.957165  96.60  32.37  15    2.0  -0.333333\n",
            "4       9.957165  96.60  32.37  15    2.0  -2.666667\n",
            "...          ...    ...    ...  ..    ...        ...\n",
            "299995  1.388562  96.35  32.39  F5    2.0 -25.333333\n",
            "299996  1.388562  96.35  32.39  F5    2.0 -27.333333\n",
            "299997  1.388562  96.35  32.39  F5    2.0 -27.666667\n",
            "299998  1.388562  96.35  32.39  F5    2.0 -27.333333\n",
            "299999  1.388562  96.35  32.39  F5    2.0 -28.333333\n",
            "\n",
            "[300000 rows x 6 columns]\n"
          ]
        }
      ]
    },
    {
      "cell_type": "markdown",
      "source": [
        "#RandomForest with K fold"
      ],
      "metadata": {
        "id": "mge1a9XsLvsf"
      }
    },
    {
      "cell_type": "code",
      "source": [
        "import pandas as pd\n",
        "from sklearn.model_selection import KFold, GridSearchCV\n",
        "from sklearn.ensemble import RandomForestClassifier\n",
        "from sklearn.metrics import accuracy_score, precision_score, recall_score, f1_score, roc_auc_score\n",
        "from sklearn.preprocessing import StandardScaler, LabelEncoder\n",
        "from sklearn.pipeline import Pipeline\n",
        "from imblearn.over_sampling import RandomOverSampler\n",
        "from imblearn.pipeline import Pipeline as ImbPipeline\n",
        "\n",
        "# Encode the 'id' column into numeric values\n",
        "label_encoder = LabelEncoder()\n",
        "participant_data['id_encoded'] = label_encoder.fit_transform(participant_data['id'])\n",
        "\n",
        "# Define features and target variable\n",
        "X = participant_data.drop(columns=['label', 'id', 'id_encoded'])\n",
        "y = participant_data['label']\n",
        "\n",
        "# Define Random Forest classifier\n",
        "rf_clf = RandomForestClassifier(random_state=42)\n",
        "\n",
        "# Define a pipeline for preprocessing and modeling\n",
        "pipeline = Pipeline([\n",
        "    ('scaler', StandardScaler()),  # Standardize features\n",
        "    ('clf', rf_clf)  # Random Forest classifier\n",
        "])\n",
        "\n",
        "# Define hyperparameters for grid search\n",
        "param_grid = {\n",
        "    'clf__n_estimators': [100, 200, 300],\n",
        "    'clf__max_depth': [None, 10, 20, 30],\n",
        "    'clf__min_samples_split': [2, 5, 10],\n",
        "    'clf__min_samples_leaf': [1, 2, 4],\n",
        "    'clf__bootstrap': [True, False]\n",
        "}\n",
        "\n",
        "# Define class imbalance techniques and create pipeline\n",
        "over_sampler = RandomOverSampler(random_state=42)\n",
        "imb_pipeline = ImbPipeline([\n",
        "    ('scaler', StandardScaler()),  # Standardize features\n",
        "    ('over_sampler', over_sampler),  # Class imbalance technique\n",
        "    ('clf', rf_clf)  # Random Forest classifier\n",
        "])\n",
        "\n",
        "# Use K-fold cross-validation for training and hyperparameter tuning\n",
        "kf = KFold(n_splits=5, shuffle=True, random_state=42)\n",
        "scores = {'accuracy': [], 'precision': [], 'recall': [], 'f1': []}\n",
        "\n",
        "for train_idx, test_idx in kf.split(participant_data['id_encoded'].unique()):\n",
        "    # Split data based on id\n",
        "    train_id = participant_data['id_encoded'].unique()[train_idx]\n",
        "    test_id = participant_data['id_encoded'].unique()[test_idx]\n",
        "\n",
        "    # Filter data based on selected id(s)\n",
        "    X_train = participant_data[participant_data['id_encoded'].isin(train_id)].drop(columns=['label', 'id', 'id_encoded'])\n",
        "    y_train = participant_data[participant_data['id_encoded'].isin(train_id)]['label']\n",
        "    X_test = participant_data[participant_data['id_encoded'].isin(test_id)].drop(columns=['label', 'id', 'id_encoded'])\n",
        "    y_test = participant_data[participant_data['id_encoded'].isin(test_id)]['label']\n",
        "\n",
        "    # Perform GridSearchCV for hyperparameter tuning\n",
        "    grid_search = GridSearchCV(pipeline, param_grid, cv=3, scoring='accuracy', n_jobs=-1)\n",
        "    grid_search.fit(X_train, y_train)\n",
        "\n",
        "    # Evaluate the model's performance on the test set\n",
        "    y_pred = grid_search.predict(X_test)\n",
        "\n",
        "    # Calculate evaluation metrics\n",
        "    accuracy = accuracy_score(y_test, y_pred)\n",
        "    precision = precision_score(y_test, y_pred, average='weighted')\n",
        "    recall = recall_score(y_test, y_pred, average='weighted')\n",
        "    f1 = f1_score(y_test, y_pred, average='weighted')\n",
        "    #roc_auc = roc_auc_score(y_test, grid_search.predict_proba(X_test), average='weighted', multi_class='ovr')\n",
        "\n",
        "    # Append scores\n",
        "    scores['accuracy'].append(accuracy)\n",
        "    scores['precision'].append(precision)\n",
        "    scores['recall'].append(recall)\n",
        "    scores['f1'].append(f1)\n",
        "    #scores['roc_auc'].append(roc_auc)\n",
        "\n",
        "# Calculate mean scores\n",
        "mean_scores = {k: sum(v) / len(v) for k, v in scores.items()}\n",
        "\n",
        "# Output mean evaluation metrics\n",
        "print(\"Mean Accuracy:\", mean_scores['accuracy'])\n",
        "print(\"Mean Precision:\", mean_scores['precision'])\n",
        "print(\"Mean Recall:\", mean_scores['recall'])\n",
        "print(\"Mean F1 Score:\", mean_scores['f1'])\n",
        "#print(\"Mean ROC AUC Score:\", mean_scores['roc_auc'])\n",
        "\n",
        "# Note: Replace 'your_data.csv' with the path to your actual dataset file.\n"
      ],
      "metadata": {
        "colab": {
          "base_uri": "https://localhost:8080/"
        },
        "id": "KhaoLF7lJw7x",
        "outputId": "31d55de5-789f-43ca-de5f-6d64562aa67b"
      },
      "execution_count": null,
      "outputs": [
        {
          "output_type": "stream",
          "name": "stderr",
          "text": [
            "/usr/local/lib/python3.10/dist-packages/sklearn/metrics/_classification.py:1344: UndefinedMetricWarning: Recall is ill-defined and being set to 0.0 in labels with no true samples. Use `zero_division` parameter to control this behavior.\n",
            "  _warn_prf(average, modifier, msg_start, len(result))\n",
            "/usr/local/lib/python3.10/dist-packages/sklearn/metrics/_classification.py:1344: UndefinedMetricWarning: Precision is ill-defined and being set to 0.0 in labels with no predicted samples. Use `zero_division` parameter to control this behavior.\n",
            "  _warn_prf(average, modifier, msg_start, len(result))\n",
            "/usr/local/lib/python3.10/dist-packages/sklearn/metrics/_classification.py:1344: UndefinedMetricWarning: Precision is ill-defined and being set to 0.0 in labels with no predicted samples. Use `zero_division` parameter to control this behavior.\n",
            "  _warn_prf(average, modifier, msg_start, len(result))\n",
            "/usr/local/lib/python3.10/dist-packages/sklearn/metrics/_classification.py:1344: UndefinedMetricWarning: Recall is ill-defined and being set to 0.0 in labels with no true samples. Use `zero_division` parameter to control this behavior.\n",
            "  _warn_prf(average, modifier, msg_start, len(result))\n"
          ]
        },
        {
          "output_type": "stream",
          "name": "stdout",
          "text": [
            "Mean Accuracy: 0.7093333333333333\n",
            "Mean Precision: 0.711111111111111\n",
            "Mean Recall: 0.7093333333333333\n",
            "Mean F1 Score: 0.6872340425531915\n"
          ]
        }
      ]
    },
    {
      "cell_type": "code",
      "source": [
        "import matplotlib.pyplot as plt\n",
        "import seaborn as sns\n",
        "from sklearn.metrics import confusion_matrix\n",
        "import numpy as np\n",
        "\n",
        "# Calculate confusion matrix\n",
        "cm = confusion_matrix(y_test, y_pred)\n",
        "\n",
        "# Plot confusion matrix\n",
        "plt.figure(figsize=(8, 6))\n",
        "sns.heatmap(cm, annot=True, fmt='d', cmap='Blues', xticklabels=np.unique(y), yticklabels=np.unique(y))\n",
        "plt.title('Confusion Matrix')\n",
        "plt.xlabel('Predicted')\n",
        "plt.ylabel('Actual')\n",
        "plt.show()\n",
        "\n",
        "# Get feature importances\n",
        "feature_importances = grid_search.best_estimator_.named_steps['clf'].feature_importances_\n",
        "\n",
        "# Plot feature importances\n",
        "plt.figure(figsize=(10, 6))\n",
        "sns.barplot(x=feature_importances, y=X.columns)\n",
        "plt.title('Feature Importances')\n",
        "plt.xlabel('Importance')\n",
        "plt.ylabel('Features')\n",
        "plt.show()\n"
      ],
      "metadata": {
        "colab": {
          "base_uri": "https://localhost:8080/",
          "height": 1000
        },
        "id": "6ORxKlpFMqoB",
        "outputId": "679938a6-464d-4234-d504-bd5d740413f7"
      },
      "execution_count": null,
      "outputs": [
        {
          "output_type": "display_data",
          "data": {
            "text/plain": [
              "<Figure size 800x600 with 2 Axes>"
            ],
            "image/png": "[encoded data removed]"
          },
          "metadata": {}
        },
        {
          "output_type": "display_data",
          "data": {
            "text/plain": [
              "<Figure size 1000x600 with 1 Axes>"
            ],
            "image/png": "[encoded data removed]"
          },
          "metadata": {}
        }
      ]
    },
    {
      "cell_type": "code",
      "source": [
        "from sklearn.svm import SVC\n",
        "\n",
        "# Define Support Vector Machine classifier\n",
        "svm_clf = SVC(random_state=42)\n",
        "\n",
        "# Update pipeline with SVM classifier\n",
        "pipeline = Pipeline([\n",
        "    ('scaler', StandardScaler()),  # Standardize features\n",
        "    ('clf', svm_clf)  # SVM classifier\n",
        "])\n",
        "\n",
        "# Perform GridSearchCV for hyperparameter tuning\n",
        "param_grid = {\n",
        "    'clf__C': [0.1, 1, 10],  # Regularization parameter\n",
        "    'clf__kernel': ['linear', 'rbf']  # Kernel type\n",
        "}\n",
        "\n",
        "grid_search = GridSearchCV(pipeline, param_grid, cv=3, scoring='accuracy', n_jobs=-1)\n",
        "grid_search.fit(X_train, y_train)\n",
        "\n",
        "# Evaluate the model's performance on the test set\n",
        "y_pred = grid_search.predict(X_test)\n",
        "\n",
        "# Calculate evaluation metrics\n",
        "accuracy = accuracy_score(y_test, y_pred)\n",
        "precision = precision_score(y_test, y_pred, average='weighted')\n",
        "recall = recall_score(y_test, y_pred, average='weighted')\n",
        "f1 = f1_score(y_test, y_pred, average='weighted')\n",
        "\n",
        "# Print evaluation metrics\n",
        "print(\"SVM Evaluation Metrics:\")\n",
        "print(\"Accuracy:\", accuracy)\n",
        "print(\"Precision:\", precision)\n",
        "print(\"Recall:\", recall)\n",
        "print(\"F1 Score:\", f1)\n"
      ],
      "metadata": {
        "colab": {
          "base_uri": "https://localhost:8080/"
        },
        "id": "HRu0DZSyN4le",
        "outputId": "1b20e3f5-0743-43d1-e407-3fd77526fe59"
      },
      "execution_count": null,
      "outputs": [
        {
          "output_type": "stream",
          "name": "stdout",
          "text": [
            "SVM Evaluation Metrics:\n",
            "Accuracy: 0.672\n",
            "Precision: 1.0\n",
            "Recall: 0.672\n",
            "F1 Score: 0.8038277511961722\n"
          ]
        },
        {
          "output_type": "stream",
          "name": "stderr",
          "text": [
            "/usr/local/lib/python3.10/dist-packages/sklearn/metrics/_classification.py:1344: UndefinedMetricWarning: Recall is ill-defined and being set to 0.0 in labels with no true samples. Use `zero_division` parameter to control this behavior.\n",
            "  _warn_prf(average, modifier, msg_start, len(result))\n"
          ]
        }
      ]
    },
    {
      "cell_type": "code",
      "source": [
        "from sklearn.inspection import permutation_importance\n",
        "\n",
        "# Compute permutation importances\n",
        "result = permutation_importance(grid_search, X_test, y_test, n_repeats=10, random_state=42, n_jobs=-1)\n",
        "\n",
        "# Get feature importances\n",
        "importances = result.importances_mean\n",
        "\n",
        "# Plot feature importances\n",
        "plt.figure(figsize=(10, 6))\n",
        "sns.barplot(x=importances, y=X.columns)\n",
        "plt.title('Permutation Feature Importances')\n",
        "plt.xlabel('Importance')\n",
        "plt.ylabel('Features')\n",
        "plt.show()\n"
      ],
      "metadata": {
        "colab": {
          "base_uri": "https://localhost:8080/",
          "height": 550
        },
        "id": "cQ4zk3D9ObmT",
        "outputId": "1ac708bd-c515-495f-9f00-ff02c2cb6072"
      },
      "execution_count": null,
      "outputs": [
        {
          "output_type": "display_data",
          "data": {
            "text/plain": [
              "<Figure size 1000x600 with 1 Axes>"
            ],
            "image/png": "[encoded data removed]"
          },
          "metadata": {}
        }
      ]
    },
    {
      "cell_type": "code",
      "source": [
        "from sklearn.ensemble import GradientBoostingClassifier\n",
        "\n",
        "# Define Gradient Boosting classifier\n",
        "gb_clf = GradientBoostingClassifier(random_state=42)\n",
        "\n",
        "# Update pipeline with Gradient Boosting classifier\n",
        "pipeline = Pipeline([\n",
        "    ('scaler', StandardScaler()),  # Standardize features\n",
        "    ('clf', gb_clf)  # Gradient Boosting classifier\n",
        "])\n",
        "\n",
        "# Define hyperparameters for grid search\n",
        "param_grid = {\n",
        "    'clf__n_estimators': [100, 200, 300],\n",
        "    'clf__learning_rate': [0.01, 0.1, 0.2],\n",
        "    'clf__max_depth': [3, 4, 5],\n",
        "    'clf__min_samples_split': [2, 5, 10],\n",
        "    'clf__min_samples_leaf': [1, 2, 4]\n",
        "}\n",
        "\n",
        "# Perform GridSearchCV for hyperparameter tuning\n",
        "grid_search = GridSearchCV(pipeline, param_grid, cv=3, scoring='accuracy', n_jobs=-1)\n",
        "grid_search.fit(X_train, y_train)\n",
        "\n",
        "# Evaluate the model's performance on the test set\n",
        "y_pred = grid_search.predict(X_test)\n",
        "\n",
        "# Calculate evaluation metrics\n",
        "accuracy = accuracy_score(y_test, y_pred)\n",
        "precision = precision_score(y_test, y_pred, average='weighted')\n",
        "recall = recall_score(y_test, y_pred, average='weighted')\n",
        "f1 = f1_score(y_test, y_pred, average='weighted')\n",
        "\n",
        "# Print evaluation metrics\n",
        "print(\"Gradient Boosting Evaluation Metrics:\")\n",
        "print(\"Accuracy:\", accuracy)\n",
        "print(\"Precision:\", precision)\n",
        "print(\"Recall:\", recall)\n",
        "print(\"F1 Score:\", f1)\n"
      ],
      "metadata": {
        "colab": {
          "base_uri": "https://localhost:8080/"
        },
        "id": "5MlGU1qPPQOb",
        "outputId": "e335e537-7bdf-4ad8-a6d1-2deaa9f9d4fe"
      },
      "execution_count": null,
      "outputs": [
        {
          "output_type": "stream",
          "name": "stdout",
          "text": [
            "Gradient Boosting Evaluation Metrics:\n",
            "Accuracy: 1.0\n",
            "Precision: 1.0\n",
            "Recall: 1.0\n",
            "F1 Score: 1.0\n"
          ]
        }
      ]
    },
    {
      "cell_type": "code",
      "source": [
        "from sklearn.metrics import confusion_matrix\n",
        "import seaborn as sns\n",
        "import matplotlib.pyplot as plt\n",
        "\n",
        "# Calculate confusion matrix\n",
        "cm = confusion_matrix(y_test, y_pred)\n",
        "\n",
        "# Plot confusion matrix\n",
        "plt.figure(figsize=(8, 6))\n",
        "sns.heatmap(cm, annot=True, fmt='d', cmap='Blues', xticklabels=np.unique(y_test), yticklabels=np.unique(y_test))\n",
        "plt.title('Confusion Matrix')\n",
        "plt.xlabel('Predicted')\n",
        "plt.ylabel('Actual')\n",
        "plt.show()\n"
      ],
      "metadata": {
        "id": "pDAhLozAWdA6",
        "outputId": "0e81b32b-5297-4ee3-fd68-e8ca22e78159",
        "colab": {
          "base_uri": "https://localhost:8080/",
          "height": 564
        }
      },
      "execution_count": null,
      "outputs": [
        {
          "output_type": "display_data",
          "data": {
            "text/plain": [
              "<Figure size 800x600 with 2 Axes>"
            ],
            "image/png": "[encoded data removed]"
          },
          "metadata": {}
        }
      ]
    }
  ]
}